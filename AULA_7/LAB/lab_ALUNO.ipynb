{
 "cells": [
  {
   "cell_type": "markdown",
   "metadata": {},
   "source": [
    "# Insper - Pós Graduação Ciência de Dados\n",
    "\n",
    "## Melt, Pivot, Stack, Unstack"
   ]
  },
  {
   "cell_type": "code",
   "execution_count": 1,
   "metadata": {},
   "outputs": [],
   "source": [
    "import pandas as pd\n",
    "\n",
    "df = pd.read_csv('dataset/stocks.csv')"
   ]
  },
  {
   "cell_type": "code",
   "execution_count": 3,
   "metadata": {},
   "outputs": [
    {
     "data": {
      "text/html": [
       "<div>\n",
       "<style scoped>\n",
       "    .dataframe tbody tr th:only-of-type {\n",
       "        vertical-align: middle;\n",
       "    }\n",
       "\n",
       "    .dataframe tbody tr th {\n",
       "        vertical-align: top;\n",
       "    }\n",
       "\n",
       "    .dataframe thead th {\n",
       "        text-align: right;\n",
       "    }\n",
       "</style>\n",
       "<table border=\"1\" class=\"dataframe\">\n",
       "  <thead>\n",
       "    <tr style=\"text-align: right;\">\n",
       "      <th></th>\n",
       "      <th>date</th>\n",
       "      <th>AAPL</th>\n",
       "      <th>AMZN</th>\n",
       "      <th>GOOGL</th>\n",
       "    </tr>\n",
       "  </thead>\n",
       "  <tbody>\n",
       "    <tr>\n",
       "      <th>0</th>\n",
       "      <td>2018-09-13</td>\n",
       "      <td>223.52</td>\n",
       "      <td>2000.00</td>\n",
       "      <td>1179.70</td>\n",
       "    </tr>\n",
       "    <tr>\n",
       "      <th>1</th>\n",
       "      <td>2018-09-14</td>\n",
       "      <td>225.75</td>\n",
       "      <td>1992.93</td>\n",
       "      <td>1188.00</td>\n",
       "    </tr>\n",
       "    <tr>\n",
       "      <th>2</th>\n",
       "      <td>2018-09-17</td>\n",
       "      <td>222.15</td>\n",
       "      <td>1954.73</td>\n",
       "      <td>1177.77</td>\n",
       "    </tr>\n",
       "    <tr>\n",
       "      <th>3</th>\n",
       "      <td>2018-09-18</td>\n",
       "      <td>217.79</td>\n",
       "      <td>1918.65</td>\n",
       "      <td>1162.66</td>\n",
       "    </tr>\n",
       "  </tbody>\n",
       "</table>\n",
       "</div>"
      ],
      "text/plain": [
       "         date    AAPL     AMZN    GOOGL\n",
       "0  2018-09-13  223.52  2000.00  1179.70\n",
       "1  2018-09-14  225.75  1992.93  1188.00\n",
       "2  2018-09-17  222.15  1954.73  1177.77\n",
       "3  2018-09-18  217.79  1918.65  1162.66"
      ]
     },
     "execution_count": 3,
     "metadata": {},
     "output_type": "execute_result"
    }
   ],
   "source": [
    "df.head()"
   ]
  },
  {
   "cell_type": "markdown",
   "metadata": {},
   "source": [
    "1. Deixe a tabela no formato tidy\n",
    "\n",
    "* [pandas.melt](https://pandas.pydata.org/docs/reference/api/pandas.melt.html)\n",
    "\n",
    "<img src='https://pandas.pydata.org/docs/_images/reshaping_melt.png' width=\"700\">"
   ]
  },
  {
   "cell_type": "code",
   "execution_count": 19,
   "metadata": {},
   "outputs": [
    {
     "data": {
      "text/html": [
       "<div>\n",
       "<style scoped>\n",
       "    .dataframe tbody tr th:only-of-type {\n",
       "        vertical-align: middle;\n",
       "    }\n",
       "\n",
       "    .dataframe tbody tr th {\n",
       "        vertical-align: top;\n",
       "    }\n",
       "\n",
       "    .dataframe thead th {\n",
       "        text-align: right;\n",
       "    }\n",
       "</style>\n",
       "<table border=\"1\" class=\"dataframe\">\n",
       "  <thead>\n",
       "    <tr style=\"text-align: right;\">\n",
       "      <th></th>\n",
       "      <th>date</th>\n",
       "      <th>company</th>\n",
       "      <th>price</th>\n",
       "    </tr>\n",
       "  </thead>\n",
       "  <tbody>\n",
       "    <tr>\n",
       "      <th>0</th>\n",
       "      <td>2018-09-13</td>\n",
       "      <td>AAPL</td>\n",
       "      <td>223.52</td>\n",
       "    </tr>\n",
       "    <tr>\n",
       "      <th>1</th>\n",
       "      <td>2018-09-14</td>\n",
       "      <td>AAPL</td>\n",
       "      <td>225.75</td>\n",
       "    </tr>\n",
       "    <tr>\n",
       "      <th>2</th>\n",
       "      <td>2018-09-17</td>\n",
       "      <td>AAPL</td>\n",
       "      <td>222.15</td>\n",
       "    </tr>\n",
       "    <tr>\n",
       "      <th>3</th>\n",
       "      <td>2018-09-18</td>\n",
       "      <td>AAPL</td>\n",
       "      <td>217.79</td>\n",
       "    </tr>\n",
       "    <tr>\n",
       "      <th>4</th>\n",
       "      <td>2018-09-13</td>\n",
       "      <td>AMZN</td>\n",
       "      <td>2000.00</td>\n",
       "    </tr>\n",
       "    <tr>\n",
       "      <th>5</th>\n",
       "      <td>2018-09-14</td>\n",
       "      <td>AMZN</td>\n",
       "      <td>1992.93</td>\n",
       "    </tr>\n",
       "    <tr>\n",
       "      <th>6</th>\n",
       "      <td>2018-09-17</td>\n",
       "      <td>AMZN</td>\n",
       "      <td>1954.73</td>\n",
       "    </tr>\n",
       "    <tr>\n",
       "      <th>7</th>\n",
       "      <td>2018-09-18</td>\n",
       "      <td>AMZN</td>\n",
       "      <td>1918.65</td>\n",
       "    </tr>\n",
       "    <tr>\n",
       "      <th>8</th>\n",
       "      <td>2018-09-13</td>\n",
       "      <td>GOOGL</td>\n",
       "      <td>1179.70</td>\n",
       "    </tr>\n",
       "    <tr>\n",
       "      <th>9</th>\n",
       "      <td>2018-09-14</td>\n",
       "      <td>GOOGL</td>\n",
       "      <td>1188.00</td>\n",
       "    </tr>\n",
       "    <tr>\n",
       "      <th>10</th>\n",
       "      <td>2018-09-17</td>\n",
       "      <td>GOOGL</td>\n",
       "      <td>1177.77</td>\n",
       "    </tr>\n",
       "    <tr>\n",
       "      <th>11</th>\n",
       "      <td>2018-09-18</td>\n",
       "      <td>GOOGL</td>\n",
       "      <td>1162.66</td>\n",
       "    </tr>\n",
       "  </tbody>\n",
       "</table>\n",
       "</div>"
      ],
      "text/plain": [
       "          date company    price\n",
       "0   2018-09-13    AAPL   223.52\n",
       "1   2018-09-14    AAPL   225.75\n",
       "2   2018-09-17    AAPL   222.15\n",
       "3   2018-09-18    AAPL   217.79\n",
       "4   2018-09-13    AMZN  2000.00\n",
       "5   2018-09-14    AMZN  1992.93\n",
       "6   2018-09-17    AMZN  1954.73\n",
       "7   2018-09-18    AMZN  1918.65\n",
       "8   2018-09-13   GOOGL  1179.70\n",
       "9   2018-09-14   GOOGL  1188.00\n",
       "10  2018-09-17   GOOGL  1177.77\n",
       "11  2018-09-18   GOOGL  1162.66"
      ]
     },
     "execution_count": 19,
     "metadata": {},
     "output_type": "execute_result"
    }
   ],
   "source": [
    "df_melted = df.melt(id_vars=['date'], var_name='company', value_name='price')\n",
    "df_melted"
   ]
  },
  {
   "cell_type": "markdown",
   "metadata": {},
   "source": [
    "2. Retorne o dataframe long (tidy) ao formato wide (not tidy) e plote as séries temporais\n",
    "\n",
    "* [pandas.DataFrame.pivot](https://pandas.pydata.org/docs/reference/api/pandas.DataFrame.pivot.html)\n",
    "* [pandas.pivot_table](https://pandas.pydata.org/docs/reference/api/pandas.pivot_table.html)\n",
    "\n",
    "<img src='https://pandas.pydata.org/docs/_images/reshaping_pivot.png' width=\"700\">"
   ]
  },
  {
   "cell_type": "code",
   "execution_count": 23,
   "metadata": {},
   "outputs": [],
   "source": [
    "df_pivot = df_melted.pivot(index='date', columns='company', values='price')"
   ]
  },
  {
   "cell_type": "code",
   "execution_count": 29,
   "metadata": {},
   "outputs": [
    {
     "data": {
      "image/png": "[encoded data removed]",
      "text/plain": [
       "<Figure size 432x288 with 1 Axes>"
      ]
     },
     "metadata": {
      "needs_background": "light"
     },
     "output_type": "display_data"
    }
   ],
   "source": [
    "df_pivot.plot();"
   ]
  },
  {
   "cell_type": "code",
   "execution_count": 33,
   "metadata": {},
   "outputs": [],
   "source": [
    "import numpy as np\n",
    "df_test = pd.DataFrame({'a' : [1,2,2,1,2,2,], 'b' : [1,1,1,2,2,2], 'c' : np.random.rand(6)})"
   ]
  },
  {
   "cell_type": "code",
   "execution_count": null,
   "metadata": {},
   "outputs": [],
   "source": []
  },
  {
   "cell_type": "markdown",
   "metadata": {},
   "source": [
    "3. Crie um dataframe df_reindexed, redefinindo os índices do dataset tidy com as colunas date e variable\n",
    "4. Volte o dataframe df_reindex para o formato wide, utilizando unstack\n",
    "\n",
    "* [pandas.DataFrame.set_index](https://pandas.pydata.org/docs/reference/api/pandas.DataFrame.set_index.html)\n",
    "* [pandas.DataFrame.unstack](https://pandas.pydata.org/docs/reference/api/pandas.DataFrame.unstack.html)\n",
    "\n",
    "<img src='https://pandas.pydata.org/docs/_images/reshaping_unstack.png' width=\"700\">"
   ]
  },
  {
   "cell_type": "code",
   "execution_count": 42,
   "metadata": {},
   "outputs": [],
   "source": [
    "df_reindexed = df_melted.set_index(['date', 'company'])"
   ]
  },
  {
   "cell_type": "code",
   "execution_count": 46,
   "metadata": {},
   "outputs": [
    {
     "data": {
      "text/plain": [
       "MultiIndex([('2018-09-13',  'AAPL'),\n",
       "            ('2018-09-14',  'AAPL'),\n",
       "            ('2018-09-17',  'AAPL'),\n",
       "            ('2018-09-18',  'AAPL'),\n",
       "            ('2018-09-13',  'AMZN'),\n",
       "            ('2018-09-14',  'AMZN'),\n",
       "            ('2018-09-17',  'AMZN'),\n",
       "            ('2018-09-18',  'AMZN'),\n",
       "            ('2018-09-13', 'GOOGL'),\n",
       "            ('2018-09-14', 'GOOGL'),\n",
       "            ('2018-09-17', 'GOOGL'),\n",
       "            ('2018-09-18', 'GOOGL')],\n",
       "           names=['date', 'company'])"
      ]
     },
     "execution_count": 46,
     "metadata": {},
     "output_type": "execute_result"
    }
   ],
   "source": [
    "df_reindexed.index"
   ]
  },
  {
   "cell_type": "code",
   "execution_count": null,
   "metadata": {},
   "outputs": [],
   "source": []
  },
  {
   "cell_type": "markdown",
   "metadata": {},
   "source": [
    "5. Utilize o unstack para colocar df_reindexed com a data nas colunas em formato wide"
   ]
  },
  {
   "cell_type": "code",
   "execution_count": null,
   "metadata": {},
   "outputs": [],
   "source": []
  },
  {
   "cell_type": "markdown",
   "metadata": {},
   "source": [
    "6. Volte o dataframe unstacked ao formato long utilizando stack\n",
    "\n",
    "* [pandas.DataFrame.stack](https://pandas.pydata.org/docs/reference/api/pandas.DataFrame.stack.html)\n",
    "\n",
    "<img src='https://pandas.pydata.org/docs/_images/reshaping_stack.png' width=\"700\">"
   ]
  },
  {
   "cell_type": "code",
   "execution_count": null,
   "metadata": {},
   "outputs": [],
   "source": []
  },
  {
   "cell_type": "code",
   "execution_count": null,
   "metadata": {},
   "outputs": [],
   "source": []
  },
  {
   "cell_type": "code",
   "execution_count": null,
   "metadata": {},
   "outputs": [],
   "source": []
  },
  {
   "cell_type": "code",
   "execution_count": null,
   "metadata": {},
   "outputs": [],
   "source": []
  }
 ],
 "metadata": {
  "interpreter": {
   "hash": "0b59637b1394756eb7ed213fcf92fb888779c2e1ebc703c3375816d555c43ab4"
  },
  "kernelspec": {
   "display_name": "Python 3.8.3 ('base')",
   "language": "python",
   "name": "python3"
  },
  "language_info": {
   "codemirror_mode": {
    "name": "ipython",
    "version": 3
   },
   "file_extension": ".py",
   "mimetype": "text/x-python",
   "name": "python",
   "nbconvert_exporter": "python",
   "pygments_lexer": "ipython3",
   "version": "3.8.3"
  },
  "orig_nbformat": 4
 },
 "nbformat": 4,
 "nbformat_minor": 2
}
