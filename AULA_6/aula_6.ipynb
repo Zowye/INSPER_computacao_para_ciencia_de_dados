{
 "cells": [
  {
   "cell_type": "code",
   "execution_count": 1,
   "metadata": {},
   "outputs": [],
   "source": [
    "import pandas as pd\n",
    "import numpy as np\n",
    "import pyreadstat\n",
    "import altair as alt"
   ]
  },
  {
   "cell_type": "code",
   "execution_count": 2,
   "metadata": {},
   "outputs": [],
   "source": [
    "df, meta = pyreadstat.read_sav('ticdom_2019_individuos_base_de_microdados_v1.0.sav', encoding='latin1')"
   ]
  },
  {
   "cell_type": "code",
   "execution_count": 3,
   "metadata": {},
   "outputs": [],
   "source": [
    "def convert_to_label(coluna, valor, meta):\n",
    "    try:\n",
    "        return meta.value_labels[meta.variable_to_label[coluna]][valor]\n",
    "    except:\n",
    "        return valor"
   ]
  },
  {
   "cell_type": "code",
   "execution_count": 4,
   "metadata": {},
   "outputs": [],
   "source": [
    "df_labels = df.copy()"
   ]
  },
  {
   "cell_type": "code",
   "execution_count": 5,
   "metadata": {},
   "outputs": [],
   "source": [
    "for c in list(df_labels):\n",
    "    df_labels[c] = df_labels[c].apply(lambda x : convert_to_label(c, x, meta))"
   ]
  },
  {
   "cell_type": "code",
   "execution_count": 6,
   "metadata": {},
   "outputs": [],
   "source": [
    "df_teste = df.copy()\n",
    "\n",
    "for coluna in df_teste.columns:\n",
    "    try:\n",
    "        df_teste[coluna] = df_teste[coluna].map(meta.value_labels[meta.variable_to_label[coluna]])\n",
    "    except:\n",
    "        pass"
   ]
  },
  {
   "cell_type": "code",
   "execution_count": 7,
   "metadata": {},
   "outputs": [
    {
     "data": {
      "text/html": [
       "<div>\n",
       "<style scoped>\n",
       "    .dataframe tbody tr th:only-of-type {\n",
       "        vertical-align: middle;\n",
       "    }\n",
       "\n",
       "    .dataframe tbody tr th {\n",
       "        vertical-align: top;\n",
       "    }\n",
       "\n",
       "    .dataframe thead th {\n",
       "        text-align: right;\n",
       "    }\n",
       "</style>\n",
       "<table border=\"1\" class=\"dataframe\">\n",
       "  <thead>\n",
       "    <tr style=\"text-align: right;\">\n",
       "      <th></th>\n",
       "      <th>col1</th>\n",
       "      <th>col2</th>\n",
       "    </tr>\n",
       "  </thead>\n",
       "  <tbody>\n",
       "    <tr>\n",
       "      <th>1</th>\n",
       "      <td>w</td>\n",
       "      <td>a</td>\n",
       "    </tr>\n",
       "    <tr>\n",
       "      <th>2</th>\n",
       "      <td>10</td>\n",
       "      <td>30</td>\n",
       "    </tr>\n",
       "    <tr>\n",
       "      <th>0</th>\n",
       "      <td>20</td>\n",
       "      <td>NaN</td>\n",
       "    </tr>\n",
       "  </tbody>\n",
       "</table>\n",
       "</div>"
      ],
      "text/plain": [
       "  col1 col2\n",
       "1    w    a\n",
       "2   10   30\n",
       "0   20  NaN"
      ]
     },
     "execution_count": 7,
     "metadata": {},
     "output_type": "execute_result"
    }
   ],
   "source": [
    "import pandas as pd\n",
    "import numpy as np\n",
    "\n",
    "df1 = pd.DataFrame({'col1':['w', 10, 20],\n",
    "                   'col2': ['a', 30, np.nan]},\n",
    "                  index=[1,2,0])\n",
    "#   col1 col2\n",
    "# 1    w    a\n",
    "# 2   10   30\n",
    "# 0   20  NaN\n",
    "\n",
    "df1"
   ]
  },
  {
   "cell_type": "code",
   "execution_count": 8,
   "metadata": {},
   "outputs": [
    {
     "name": "stdout",
     "output_type": "stream",
     "text": [
      "  col1 col2\n",
      "1    w    a\n",
      "2    B   30\n",
      "0    A  NaN\n"
     ]
    }
   ],
   "source": [
    "dict = {0: \"A\", 2: \"B\"}\n",
    "\n",
    "# The value at the 0-index is mapped to 'A', the value at the 2-index is mapped to 'B'\n",
    "df1['col1'].update(pd.Series(dict))\n",
    "print(df1)"
   ]
  },
  {
   "cell_type": "code",
   "execution_count": 9,
   "metadata": {},
   "outputs": [],
   "source": [
    "def weighted_frequency(x, y):\n",
    "    a = pd.Series(df[[x,y]].groupby(x).sum()[y]) / df[y].sum()\n",
    "    b = a.index.map(meta.variable_value_labels[x])\n",
    "    c = a.values\n",
    "    df_temp = pd.DataFrame({'Labels': b, 'Frequency': c})\n",
    "    return df_temp"
   ]
  },
  {
   "cell_type": "code",
   "execution_count": 10,
   "metadata": {},
   "outputs": [
    {
     "name": "stdout",
     "output_type": "stream",
     "text": [
      "O respondente já usou um computador de mesa, um notebook ou um tablet?\n"
     ]
    },
    {
     "data": {
      "text/html": [
       "<div>\n",
       "<style scoped>\n",
       "    .dataframe tbody tr th:only-of-type {\n",
       "        vertical-align: middle;\n",
       "    }\n",
       "\n",
       "    .dataframe tbody tr th {\n",
       "        vertical-align: top;\n",
       "    }\n",
       "\n",
       "    .dataframe thead th {\n",
       "        text-align: right;\n",
       "    }\n",
       "</style>\n",
       "<table border=\"1\" class=\"dataframe\">\n",
       "  <thead>\n",
       "    <tr style=\"text-align: right;\">\n",
       "      <th>B1</th>\n",
       "      <th>Não</th>\n",
       "      <th>Não respondeu</th>\n",
       "      <th>Não sabe</th>\n",
       "      <th>Sim</th>\n",
       "    </tr>\n",
       "    <tr>\n",
       "      <th>RACA</th>\n",
       "      <th></th>\n",
       "      <th></th>\n",
       "      <th></th>\n",
       "      <th></th>\n",
       "    </tr>\n",
       "  </thead>\n",
       "  <tbody>\n",
       "    <tr>\n",
       "      <th>Amarela</th>\n",
       "      <td>0.429996</td>\n",
       "      <td>0.000000</td>\n",
       "      <td>0.000925</td>\n",
       "      <td>0.569079</td>\n",
       "    </tr>\n",
       "    <tr>\n",
       "      <th>Branca</th>\n",
       "      <td>0.373124</td>\n",
       "      <td>0.000486</td>\n",
       "      <td>0.000059</td>\n",
       "      <td>0.626331</td>\n",
       "    </tr>\n",
       "    <tr>\n",
       "      <th>Indígena</th>\n",
       "      <td>0.507732</td>\n",
       "      <td>0.014052</td>\n",
       "      <td>0.000273</td>\n",
       "      <td>0.477944</td>\n",
       "    </tr>\n",
       "    <tr>\n",
       "      <th>Não respondeu</th>\n",
       "      <td>0.661876</td>\n",
       "      <td>0.001373</td>\n",
       "      <td>0.000000</td>\n",
       "      <td>0.336751</td>\n",
       "    </tr>\n",
       "    <tr>\n",
       "      <th>Parda</th>\n",
       "      <td>0.427888</td>\n",
       "      <td>0.001571</td>\n",
       "      <td>0.000000</td>\n",
       "      <td>0.570541</td>\n",
       "    </tr>\n",
       "    <tr>\n",
       "      <th>Preta</th>\n",
       "      <td>0.451040</td>\n",
       "      <td>0.002388</td>\n",
       "      <td>0.000165</td>\n",
       "      <td>0.546408</td>\n",
       "    </tr>\n",
       "  </tbody>\n",
       "</table>\n",
       "</div>"
      ],
      "text/plain": [
       "B1                  Não  Não respondeu  Não sabe       Sim\n",
       "RACA                                                      \n",
       "Amarela        0.429996       0.000000  0.000925  0.569079\n",
       "Branca         0.373124       0.000486  0.000059  0.626331\n",
       "Indígena       0.507732       0.014052  0.000273  0.477944\n",
       "Não respondeu  0.661876       0.001373  0.000000  0.336751\n",
       "Parda          0.427888       0.001571  0.000000  0.570541\n",
       "Preta          0.451040       0.002388  0.000165  0.546408"
      ]
     },
     "execution_count": 10,
     "metadata": {},
     "output_type": "execute_result"
    }
   ],
   "source": [
    "print(meta.column_labels[list(df_labels.columns).index('B1')])\n",
    "pd.crosstab(df_labels['RACA'],\n",
    "            df_labels['B1'],\n",
    "            df_labels['PESO'], aggfunc='sum', normalize='index')"
   ]
  },
  {
   "cell_type": "code",
   "execution_count": 11,
   "metadata": {},
   "outputs": [],
   "source": [
    "def gera_tabela_frequencia(df, dimensao, indice, peso):\n",
    "    return pd.crosstab(df[dimensao], df[indice], df[peso],\n",
    "        aggfunc='sum',\n",
    "        normalize='index')"
   ]
  },
  {
   "cell_type": "code",
   "execution_count": 12,
   "metadata": {},
   "outputs": [],
   "source": [
    "df_crosstabbed = gera_tabela_frequencia(df_labels, 'SEXO', 'B1', 'PESO')"
   ]
  },
  {
   "cell_type": "code",
   "execution_count": 13,
   "metadata": {},
   "outputs": [],
   "source": [
    "df_crosstabbed.reset_index(inplace=True)"
   ]
  },
  {
   "cell_type": "code",
   "execution_count": 14,
   "metadata": {},
   "outputs": [
    {
     "data": {
      "text/html": [
       "<div>\n",
       "<style scoped>\n",
       "    .dataframe tbody tr th:only-of-type {\n",
       "        vertical-align: middle;\n",
       "    }\n",
       "\n",
       "    .dataframe tbody tr th {\n",
       "        vertical-align: top;\n",
       "    }\n",
       "\n",
       "    .dataframe thead th {\n",
       "        text-align: right;\n",
       "    }\n",
       "</style>\n",
       "<table border=\"1\" class=\"dataframe\">\n",
       "  <thead>\n",
       "    <tr style=\"text-align: right;\">\n",
       "      <th>B1</th>\n",
       "      <th>SEXO</th>\n",
       "      <th>Não</th>\n",
       "      <th>Não respondeu</th>\n",
       "      <th>Não sabe</th>\n",
       "      <th>Sim</th>\n",
       "    </tr>\n",
       "  </thead>\n",
       "  <tbody>\n",
       "    <tr>\n",
       "      <th>0</th>\n",
       "      <td>Feminino</td>\n",
       "      <td>0.450328</td>\n",
       "      <td>0.001004</td>\n",
       "      <td>0.000049</td>\n",
       "      <td>0.548619</td>\n",
       "    </tr>\n",
       "    <tr>\n",
       "      <th>1</th>\n",
       "      <td>Masculino</td>\n",
       "      <td>0.382605</td>\n",
       "      <td>0.001871</td>\n",
       "      <td>0.000089</td>\n",
       "      <td>0.615436</td>\n",
       "    </tr>\n",
       "  </tbody>\n",
       "</table>\n",
       "</div>"
      ],
      "text/plain": [
       "B1       SEXO       Não  Não respondeu  Não sabe       Sim\n",
       "0    Feminino  0.450328       0.001004  0.000049  0.548619\n",
       "1   Masculino  0.382605       0.001871  0.000089  0.615436"
      ]
     },
     "execution_count": 14,
     "metadata": {},
     "output_type": "execute_result"
    }
   ],
   "source": [
    "df_crosstabbed"
   ]
  },
  {
   "cell_type": "code",
   "execution_count": 15,
   "metadata": {},
   "outputs": [],
   "source": [
    "# MANTENHA VAR SEXO...\n",
    "# TODAS AS OUTRAS COLUNAS, FICAM CONTIDAS NUMA COLUNA UNICA CHAMADA 'RESPOSTAS'\n",
    "# VALUE_NAME VAI SER AS OCORRENCIAS DOS VALORE\n",
    "\n",
    "resposta = df_crosstabbed.melt(id_vars='SEXO', var_name='RESPOSTAS', value_name='FREQUENCIA')"
   ]
  },
  {
   "cell_type": "code",
   "execution_count": 16,
   "metadata": {},
   "outputs": [
    {
     "data": {
      "text/html": [
       "<div>\n",
       "<style scoped>\n",
       "    .dataframe tbody tr th:only-of-type {\n",
       "        vertical-align: middle;\n",
       "    }\n",
       "\n",
       "    .dataframe tbody tr th {\n",
       "        vertical-align: top;\n",
       "    }\n",
       "\n",
       "    .dataframe thead th {\n",
       "        text-align: right;\n",
       "    }\n",
       "</style>\n",
       "<table border=\"1\" class=\"dataframe\">\n",
       "  <thead>\n",
       "    <tr style=\"text-align: right;\">\n",
       "      <th></th>\n",
       "      <th>SEXO</th>\n",
       "      <th>RESPOSTAS</th>\n",
       "      <th>FREQUENCIA</th>\n",
       "    </tr>\n",
       "  </thead>\n",
       "  <tbody>\n",
       "    <tr>\n",
       "      <th>0</th>\n",
       "      <td>Feminino</td>\n",
       "      <td>Não</td>\n",
       "      <td>0.450328</td>\n",
       "    </tr>\n",
       "    <tr>\n",
       "      <th>1</th>\n",
       "      <td>Masculino</td>\n",
       "      <td>Não</td>\n",
       "      <td>0.382605</td>\n",
       "    </tr>\n",
       "    <tr>\n",
       "      <th>2</th>\n",
       "      <td>Feminino</td>\n",
       "      <td>Não respondeu</td>\n",
       "      <td>0.001004</td>\n",
       "    </tr>\n",
       "    <tr>\n",
       "      <th>3</th>\n",
       "      <td>Masculino</td>\n",
       "      <td>Não respondeu</td>\n",
       "      <td>0.001871</td>\n",
       "    </tr>\n",
       "    <tr>\n",
       "      <th>4</th>\n",
       "      <td>Feminino</td>\n",
       "      <td>Não sabe</td>\n",
       "      <td>0.000049</td>\n",
       "    </tr>\n",
       "    <tr>\n",
       "      <th>5</th>\n",
       "      <td>Masculino</td>\n",
       "      <td>Não sabe</td>\n",
       "      <td>0.000089</td>\n",
       "    </tr>\n",
       "    <tr>\n",
       "      <th>6</th>\n",
       "      <td>Feminino</td>\n",
       "      <td>Sim</td>\n",
       "      <td>0.548619</td>\n",
       "    </tr>\n",
       "    <tr>\n",
       "      <th>7</th>\n",
       "      <td>Masculino</td>\n",
       "      <td>Sim</td>\n",
       "      <td>0.615436</td>\n",
       "    </tr>\n",
       "  </tbody>\n",
       "</table>\n",
       "</div>"
      ],
      "text/plain": [
       "        SEXO      RESPOSTAS  FREQUENCIA\n",
       "0   Feminino            Não    0.450328\n",
       "1  Masculino            Não    0.382605\n",
       "2   Feminino  Não respondeu    0.001004\n",
       "3  Masculino  Não respondeu    0.001871\n",
       "4   Feminino       Não sabe    0.000049\n",
       "5  Masculino       Não sabe    0.000089\n",
       "6   Feminino            Sim    0.548619\n",
       "7  Masculino            Sim    0.615436"
      ]
     },
     "execution_count": 16,
     "metadata": {},
     "output_type": "execute_result"
    }
   ],
   "source": [
    "resposta"
   ]
  },
  {
   "cell_type": "code",
   "execution_count": 17,
   "metadata": {},
   "outputs": [
    {
     "data": {
      "text/html": [
       "\n",
       "<div id=\"altair-viz-cec4a51ffcae486797e8aba0db298711\"></div>\n",
       "<script type=\"text/javascript\">\n",
       "  var VEGA_DEBUG = (typeof VEGA_DEBUG == \"undefined\") ? {} : VEGA_DEBUG;\n",
       "  (function(spec, embedOpt){\n",
       "    let outputDiv = document.currentScript.previousElementSibling;\n",
       "    if (outputDiv.id !== \"altair-viz-cec4a51ffcae486797e8aba0db298711\") {\n",
       "      outputDiv = document.getElementById(\"altair-viz-cec4a51ffcae486797e8aba0db298711\");\n",
       "    }\n",
       "    const paths = {\n",
       "      \"vega\": \"https://cdn.jsdelivr.net/npm//vega@5?noext\",\n",
       "      \"vega-lib\": \"https://cdn.jsdelivr.net/npm//vega-lib?noext\",\n",
       "      \"vega-lite\": \"https://cdn.jsdelivr.net/npm//vega-lite@4.17.0?noext\",\n",
       "      \"vega-embed\": \"https://cdn.jsdelivr.net/npm//vega-embed@6?noext\",\n",
       "    };\n",
       "\n",
       "    function maybeLoadScript(lib, version) {\n",
       "      var key = `${lib.replace(\"-\", \"\")}_version`;\n",
       "      return (VEGA_DEBUG[key] == version) ?\n",
       "        Promise.resolve(paths[lib]) :\n",
       "        new Promise(function(resolve, reject) {\n",
       "          var s = document.createElement('script');\n",
       "          document.getElementsByTagName(\"head\")[0].appendChild(s);\n",
       "          s.async = true;\n",
       "          s.onload = () => {\n",
       "            VEGA_DEBUG[key] = version;\n",
       "            return resolve(paths[lib]);\n",
       "          };\n",
       "          s.onerror = () => reject(`Error loading script: ${paths[lib]}`);\n",
       "          s.src = paths[lib];\n",
       "        });\n",
       "    }\n",
       "\n",
       "    function showError(err) {\n",
       "      outputDiv.innerHTML = `<div class=\"error\" style=\"color:red;\">${err}</div>`;\n",
       "      throw err;\n",
       "    }\n",
       "\n",
       "    function displayChart(vegaEmbed) {\n",
       "      vegaEmbed(outputDiv, spec, embedOpt)\n",
       "        .catch(err => showError(`Javascript Error: ${err.message}<br>This usually means there's a typo in your chart specification. See the javascript console for the full traceback.`));\n",
       "    }\n",
       "\n",
       "    if(typeof define === \"function\" && define.amd) {\n",
       "      requirejs.config({paths});\n",
       "      require([\"vega-embed\"], displayChart, err => showError(`Error loading script: ${err.message}`));\n",
       "    } else {\n",
       "      maybeLoadScript(\"vega\", \"5\")\n",
       "        .then(() => maybeLoadScript(\"vega-lite\", \"4.17.0\"))\n",
       "        .then(() => maybeLoadScript(\"vega-embed\", \"6\"))\n",
       "        .catch(showError)\n",
       "        .then(() => displayChart(vegaEmbed));\n",
       "    }\n",
       "  })({\"config\": {\"view\": {\"continuousWidth\": 400, \"continuousHeight\": 300}}, \"data\": {\"name\": \"data-e5d1711bde68e4aad26db52fb4890b1e\"}, \"mark\": \"bar\", \"encoding\": {\"color\": {\"field\": \"RESPOSTAS\", \"type\": \"nominal\"}, \"column\": {\"field\": \"SEXO\", \"type\": \"nominal\"}, \"x\": {\"axis\": {\"labelAngle\": 45, \"title\": \"Respostas\"}, \"field\": \"RESPOSTAS\", \"type\": \"nominal\"}, \"y\": {\"axis\": {\"title\": \"Frequencia\"}, \"field\": \"FREQUENCIA\", \"type\": \"quantitative\"}}, \"width\": 200, \"$schema\": \"https://vega.github.io/schema/vega-lite/v4.17.0.json\", \"datasets\": {\"data-e5d1711bde68e4aad26db52fb4890b1e\": [{\"SEXO\": \"Feminino\", \"RESPOSTAS\": \"N\\u00e3o\", \"FREQUENCIA\": 0.4503281861141904}, {\"SEXO\": \"Masculino\", \"RESPOSTAS\": \"N\\u00e3o\", \"FREQUENCIA\": 0.382604586799926}, {\"SEXO\": \"Feminino\", \"RESPOSTAS\": \"N\\u00e3o respondeu\", \"FREQUENCIA\": 0.001003804682809875}, {\"SEXO\": \"Masculino\", \"RESPOSTAS\": \"N\\u00e3o respondeu\", \"FREQUENCIA\": 0.0018709515366586798}, {\"SEXO\": \"Feminino\", \"RESPOSTAS\": \"N\\u00e3o sabe\", \"FREQUENCIA\": 4.880340760061997e-05}, {\"SEXO\": \"Masculino\", \"RESPOSTAS\": \"N\\u00e3o sabe\", \"FREQUENCIA\": 8.864928983850714e-05}, {\"SEXO\": \"Feminino\", \"RESPOSTAS\": \"Sim\", \"FREQUENCIA\": 0.5486192057953991}, {\"SEXO\": \"Masculino\", \"RESPOSTAS\": \"Sim\", \"FREQUENCIA\": 0.6154358123735767}]}}, {\"mode\": \"vega-lite\"});\n",
       "</script>"
      ],
      "text/plain": [
       "alt.Chart(...)"
      ]
     },
     "execution_count": 17,
     "metadata": {},
     "output_type": "execute_result"
    }
   ],
   "source": [
    "alt.Chart(resposta).mark_bar().encode(\n",
    "    x = alt.X('RESPOSTAS', axis = alt.Axis(labelAngle=45, title='Respostas')),\n",
    "    color = 'RESPOSTAS',\n",
    "    column = 'SEXO',\n",
    "    y = alt.Y('FREQUENCIA', axis=alt.Axis(title='Frequencia'))\n",
    ").properties(width=200)"
   ]
  },
  {
   "cell_type": "code",
   "execution_count": null,
   "metadata": {},
   "outputs": [],
   "source": []
  },
  {
   "cell_type": "code",
   "execution_count": null,
   "metadata": {},
   "outputs": [],
   "source": []
  },
  {
   "cell_type": "code",
   "execution_count": null,
   "metadata": {},
   "outputs": [],
   "source": []
  },
  {
   "cell_type": "code",
   "execution_count": null,
   "metadata": {},
   "outputs": [],
   "source": []
  },
  {
   "cell_type": "code",
   "execution_count": null,
   "metadata": {},
   "outputs": [],
   "source": []
  }
 ],
 "metadata": {
  "interpreter": {
   "hash": "22f90f88b26bec86262a663cc03ef4fac10b4d051f7fff737ca0667d2aee248e"
  },
  "kernelspec": {
   "display_name": "Python 3",
   "language": "python",
   "name": "python3"
  },
  "language_info": {
   "codemirror_mode": {
    "name": "ipython",
    "version": 3
   },
   "file_extension": ".py",
   "mimetype": "text/x-python",
   "name": "python",
   "nbconvert_exporter": "python",
   "pygments_lexer": "ipython3",
   "version": "3.8.3"
  }
 },
 "nbformat": 4,
 "nbformat_minor": 2
}
