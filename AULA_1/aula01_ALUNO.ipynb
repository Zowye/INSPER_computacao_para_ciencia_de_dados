{
 "cells": [
  {
   "cell_type": "markdown",
   "metadata": {
    "heading_collapsed": true,
    "slideshow": {
     "slide_type": "skip"
    }
   },
   "source": [
    "![Insper](https://github.com/danielscarvalho/Insper-DS-Dicas/blob/master/Insper-Logo.png?raw=true)\n",
    "\n",
    "# Insper Pós-Graduação\n",
    "## Programa Avançado em Data Science e Decisão [»](https://www.insper.edu.br/pos-graduacao/programas-avancados/programa-avancado-em-data-science-e-decisao/)\n"
   ]
  },
  {
   "cell_type": "markdown",
   "metadata": {
    "hidden": true,
    "slideshow": {
     "slide_type": "slide"
    }
   },
   "source": [
    "### Computação para a Ciência dos Dados - Aula 01\n",
    "\n",
    "- Tarefas comuns em Ciência dos Dados\n",
    "- Apresentação da disciplina\n",
    "- Objetivos\n",
    "- Ferramentas Computacionais\n",
    "- A Linguagem de Programação Python"
   ]
  },
  {
   "cell_type": "markdown",
   "metadata": {
    "slideshow": {
     "slide_type": "slide"
    }
   },
   "source": [
    "## Reflexão - Desafios da Ciência dos Dados\n",
    "\n",
    "\n",
    "> Dados não são dados. Ou seja, não caem do céu, prontos e perfeitos para quem os consome. São o resultado,\n",
    "por vezes, de longos processos de construção que envolvem várias decisões metodológicas. Além disso, o consumo dos dados não é imediato. Quem lê ou analisa os dados precisa também estar capacitado para compreendê-los. Mesmo pesquisadores experimentados podem cair nas diversas armadilhas que uma nova e desconhecida base de dados geralmente apresenta.\n",
    ">\n",
    "> --- <cite>Guia brasileiro de análise de dados: armadilhas & soluções / Editores Claudio D. Shikida, Leonardo Monasterio, Pedro Fernando Nery. Brasília: Enap, 2021.</cite>"
   ]
  },
  {
   "cell_type": "markdown",
   "metadata": {},
   "source": [
    "## Visão geral de ciências dos dados\n",
    "\n",
    "![DS View](https://github.com/danielscarvalho/Insper-DS-Dicas/blob/master/img/dsprocess.png?raw=true)\n",
    "\n",
    "- 20% Dados estruturados\n",
    "- 80% Dados não estruturados\n",
    "\n",
    "## Processo de ciências dos dados\n",
    "\n",
    "![DS Process](https://github.com/danielscarvalho/Insper-DS-Dicas/blob/master/img/yolearner-2-3.png?raw=true)"
   ]
  },
  {
   "cell_type": "markdown",
   "metadata": {
    "slideshow": {
     "slide_type": "slide"
    }
   },
   "source": [
    "## Reflexão - Qual linguagem trabalhar em Ciência dos Dados?\n",
    "\n",
    "> Não nos interessa o martelo, e sim os pregos!\n",
    "\n",
    "> *At the end of the day, the purpose of the programming language is to allow for the simplest and the most efficient code to be used for the job at hand.*\n",
    "\n",
    "> *When someone says \"I want a programming language in which I need only say what I wish done\", give him a lollipop.* -- Alan Perlis\n",
    "\n",
    "> \"*If someone claims to have the perfect programming language, he is either a fool or a salesman or both*\"  -- Bjarne Stroustrup\n"
   ]
  },
  {
   "cell_type": "markdown",
   "metadata": {
    "slideshow": {
     "slide_type": "slide"
    }
   },
   "source": [
    "## Competência\n",
    "\n",
    "Extrair, organizar e combinar (explorar e analisar) informações estruturadas ou não, numérica ou textual, para auxiliar na análise exploratória de dados e na modelagem estatística dos fenômenos de interesse. "
   ]
  },
  {
   "cell_type": "markdown",
   "metadata": {
    "slideshow": {
     "slide_type": "slide"
    }
   },
   "source": [
    "## Habilidades"
   ]
  },
  {
   "cell_type": "markdown",
   "metadata": {
    "slideshow": {
     "slide_type": "fragment"
    }
   },
   "source": [
    "- Extrair dados estruturados ou não estruturados empregando técnicas que envolvem a leitura de repositórios remotos, scraping, arquivos locais etc., gerando informações."
   ]
  },
  {
   "cell_type": "markdown",
   "metadata": {
    "ExecuteTime": {
     "end_time": "2020-12-20T22:19:43.595695Z",
     "start_time": "2020-12-20T22:19:43.584064Z"
    },
    "slideshow": {
     "slide_type": "fragment"
    }
   },
   "source": [
    " - Desenvolver programas em Python para análise exploratória de dados tratando a ingestão, transformação, integração e análise de conjuntos de dados. "
   ]
  },
  {
   "cell_type": "markdown",
   "metadata": {
    "slideshow": {
     "slide_type": "fragment"
    }
   },
   "source": [
    "- Projetar estruturas analíticas (pipelines) de conjuntos de dados que potencializam a geração de informações. "
   ]
  },
  {
   "cell_type": "markdown",
   "metadata": {
    "slideshow": {
     "slide_type": "fragment"
    }
   },
   "source": [
    "- Utilizar scripts e rotinas para visualizações tradicionais em ciências de dados para o processo de geração de informações. "
   ]
  },
  {
   "cell_type": "markdown",
   "metadata": {
    "slideshow": {
     "slide_type": "slide"
    }
   },
   "source": [
    "# Algoritmos\n",
    "\n",
    "Um algoritmo é formalmente uma sequência *finita* de passos que levam a execução de uma tarefa.\n",
    "\n",
    "Podemos pensar como uma receita, uma sequência de instruções que dão cabo de uma meta específica.\n",
    "\n",
    "Estas tarefas não podem ser redundantes e nem subjetivas em sua definição. Devem ser, portanto, claras e precisas. \n"
   ]
  },
  {
   "cell_type": "markdown",
   "metadata": {
    "slideshow": {
     "slide_type": "slide"
    }
   },
   "source": [
    "## Algoritmo textual informal\n",
    "\n",
    "- Bolo (modo de preparo)\n",
    "    1. Bata a margarina, as gemas e o açúcar até ficar cremoso;\n",
    "    2. Junte o leite, o coco e a farinha;\n",
    "    3. Continue batendo;\n",
    "    4. Acrescente o fermento e as claras em neve;\n",
    "    5. Unte uma forma com manteiga;\n",
    "    6. Leve ao forno para assar.\n"
   ]
  },
  {
   "cell_type": "markdown",
   "metadata": {
    "slideshow": {
     "slide_type": "slide"
    }
   },
   "source": [
    "## Algoritmo textual informal (dúvidas)\n",
    "\n",
    "- Bolo (modo de preparo)\n",
    "    1. Bata a margarina, as gemas e o açúcar até ficar cremoso  **Quão cremoso?!**;\n",
    "    2. Junte o leite, o coco e a farinha;\n",
    "    3. Continue batendo - **Por quanto tempo?**;\n",
    "    4. Acrescente o fermento e  as claras em neve **De uma vez só?**;\n",
    "    5. Unte uma forma com manteiga;\n",
    "    6. Leve ao forno para assar. **Por quanto tempo?**\n"
   ]
  },
  {
   "cell_type": "markdown",
   "metadata": {
    "slideshow": {
     "slide_type": "slide"
    }
   },
   "source": [
    "## Algoritmo textual *refinado*\n",
    "\n",
    "- Bolo (modo de preparo)\n",
    "    1. Bata a margarina, as gemas e o açúcar **por quinze minutos**;\n",
    "    2. Junte o leite, o coco e a farinha;\n",
    "    3. Continue batendo **por mais quinze minutos**;\n",
    "    4. Acrescente o fermento e, **por último**, as claras em neve;\n",
    "    5. Unte uma forma com manteiga;\n",
    "    6. Leve ao forno para assar **por trinta minutos**.\n"
   ]
  },
  {
   "cell_type": "markdown",
   "metadata": {
    "slideshow": {
     "slide_type": "slide"
    }
   },
   "source": [
    "## Características dos bons algoritmos\n",
    "\n",
    "1. Deve ter um fim;\n",
    "2. Não deve dar margem à dupla interpretação;\n",
    "3. Deve possuir a capacidade de receber e tratar dados de entrada;\n",
    "4. Pode gerar informações de saíde para o mundo externo ao algoritmo;\n",
    "5. Deve ser efetivo e eficiente (todas as etapas do algoritmo devem ser alcançáveis em um tempo finito)"
   ]
  },
  {
   "cell_type": "markdown",
   "metadata": {
    "slideshow": {
     "slide_type": "slide"
    }
   },
   "source": [
    "## Uma verdade sobre os algoritmos\n",
    "\n",
    "**Não** aprendemos algoritmos:\n",
    "\n",
    "    - Copiando algoritmos;\n",
    "    - Estudando algoritmos.\n",
    "    \n",
    "**Só** aprendemos algoritmos:\n",
    "\n",
    "    - Construíndo algoritmos;\n",
    "    - Testando algoritmos."
   ]
  },
  {
   "cell_type": "markdown",
   "metadata": {
    "id": "zBhVzsWQsbRB",
    "slideshow": {
     "slide_type": "slide"
    }
   },
   "source": [
    "# A Linguagem Python \n",
    "![Python](https://docs.python.org/3/_static/py.png)\n",
    "\n",
    "\n",
    "\n",
    "Podemos definir a linguagem de programação Python a partir de quatro características:\n",
    "\n",
    "- Python é uma **linguagem de propósito geral**, isto é, Python é uma linguagem de programação que permite a construção de programas de computador para os mais variados propósitos, tais como: aplicações front-end e back-end, apps, games, computação científica, modelos de inteligência artificial, etc.\n"
   ]
  },
  {
   "cell_type": "markdown",
   "metadata": {
    "slideshow": {
     "slide_type": "fragment"
    }
   },
   "source": [
    "\n",
    "- Python é uma **linguagem de alto-nível**, isto significa que ela abstrai ao programador os detalhes de implementação computacional das rotinas. Você pensa mais no \"o que quero fazer\" do que \"como será feito\";\n"
   ]
  },
  {
   "cell_type": "markdown",
   "metadata": {
    "slideshow": {
     "slide_type": "slide"
    }
   },
   "source": [
    "\n",
    "- Python é uma **linguagem interpretada**, o que permite que ela seja multiplataforma. Por meio de um interpretador o programa Python consegue ser executado nas mais diversas plataformas computacionais;\n",
    "\n"
   ]
  },
  {
   "cell_type": "markdown",
   "metadata": {
    "slideshow": {
     "slide_type": "fragment"
    }
   },
   "source": [
    "\n",
    "- Python é **dinamicamente tipada**. Nós armazenamos os dados de nossas aplicações em espaços de memória denominados variáveis. Cada variável possui um tipo, o que está diretamente relacionado ao espaço alocado em memória para o armazenamento dos valores da variável. Por ser dinâmicamente tipada, Python não exige que você defina previamente o tipo de uma variável. Dessa forma, uma variável *X*, por exemplo, pode no instante *t* armazenar o valor 1 (inteiro), mas no instante *t+1* armazenar o valor \"*Python é muito legal!*\" (cadeia de caracteres - string);"
   ]
  },
  {
   "cell_type": "markdown",
   "metadata": {
    "slideshow": {
     "slide_type": "slide"
    }
   },
   "source": [
    "## The Zen of Python\n"
   ]
  },
  {
   "cell_type": "code",
   "execution_count": 3,
   "metadata": {
    "ExecuteTime": {
     "end_time": "2021-01-30T17:11:16.131523Z",
     "start_time": "2021-01-30T17:11:16.126508Z"
    },
    "scrolled": true,
    "slideshow": {
     "slide_type": "fragment"
    }
   },
   "outputs": [],
   "source": [
    "import this"
   ]
  },
  {
   "cell_type": "markdown",
   "metadata": {
    "id": "7qKdJo0Oue0n",
    "slideshow": {
     "slide_type": "slide"
    }
   },
   "source": [
    "## Python - Environments\n",
    "\n",
    "![https://solution44.com/resources/venv2.jpg](https://solution44.com/resources/venv2.jpg)\n",
    "\n",
    "https://solution44.com/2017/08/15/Ideal-python-setup.html\n",
    "https://docs.python.org/3/tutorial/venv.html"
   ]
  },
  {
   "cell_type": "markdown",
   "metadata": {
    "slideshow": {
     "slide_type": "slide"
    }
   },
   "source": [
    "## Anaconda\n",
    "\n",
    "![https://jjuppe.github.io/assets/img/Anaconda-Distribution-Diagram.png](https://jjuppe.github.io/assets/img/Anaconda-Distribution-Diagram.png)"
   ]
  },
  {
   "cell_type": "markdown",
   "metadata": {
    "slideshow": {
     "slide_type": "slide"
    }
   },
   "source": [
    "## Demonstração - Instalação Python / Anaconda \n",
    "![https://fault2sha.net/wp-content/uploads/2018/04/hands_on.jpg](https://fault2sha.net/wp-content/uploads/2018/04/hands_on.jpg)\n",
    "\n",
    "[Anaconda Installation](https://docs.anaconda.com/anaconda/install/index.html): Linux, Windows e Mac"
   ]
  },
  {
   "cell_type": "markdown",
   "metadata": {
    "id": "aabpTMr5ukVv",
    "slideshow": {
     "slide_type": "slide"
    }
   },
   "source": [
    "## Variáveis\n",
    "\n",
    "- Variáveis são espaços reservados na memória para armazenamento;\n",
    "\n",
    "- Variáveis podem armazenar qualquer valor, *dinamicamente* tipadas;\n",
    "\n",
    "- Variáveis são *case-sensitive*. Isto é, a variável *A* é diferente da variável *a*, assim como a variável *Escola* é diferente da variável *escola*;\n",
    "\n",
    "- Não é possível definir variáveis cujo nomes contenham espaço.\n",
    "\n"
   ]
  },
  {
   "cell_type": "markdown",
   "metadata": {
    "slideshow": {
     "slide_type": "slide"
    }
   },
   "source": [
    "\n",
    "## Armazenamento valores em variáveis\n",
    "\n",
    "-  Fazemos uso do operador de atribuição '=' para armazenar valores nas variáveis:\n",
    "  - varA = 'casa'\n",
    "  \n",
    "  - varB = 'escola'\n",
    "  \n",
    "  - varX, varY, varZ = 5, 2, 1 (declaração múltipla)\n",
    "\n",
    "  \n",
    "\n"
   ]
  },
  {
   "cell_type": "markdown",
   "metadata": {
    "id": "joR3oGqH2Bf-",
    "slideshow": {
     "slide_type": "slide"
    }
   },
   "source": [
    "## Python como uma calculadora\n",
    "\n",
    "Os números em python são armazenados em dois tipos de dados: inteiros e ponto flutuantes."
   ]
  },
  {
   "cell_type": "code",
   "execution_count": 8,
   "metadata": {
    "ExecuteTime": {
     "end_time": "2021-01-30T17:55:36.566792Z",
     "start_time": "2021-01-30T17:55:36.562773Z"
    },
    "colab": {
     "base_uri": "https://localhost:8080/"
    },
    "id": "yoRCjQbY_sun",
    "outputId": "441691b4-ba79-448b-f663-16e7240899eb",
    "slideshow": {
     "slide_type": "fragment"
    }
   },
   "outputs": [
    {
     "data": {
      "text/plain": [
       "3"
      ]
     },
     "execution_count": 8,
     "metadata": {},
     "output_type": "execute_result"
    }
   ],
   "source": [
    "3 #Shift Enter para computar"
   ]
  },
  {
   "cell_type": "code",
   "execution_count": 7,
   "metadata": {
    "ExecuteTime": {
     "end_time": "2021-01-30T17:55:42.355067Z",
     "start_time": "2021-01-30T17:55:42.351887Z"
    },
    "colab": {
     "base_uri": "https://localhost:8080/"
    },
    "id": "q_T7XWTU_ugL",
    "outputId": "48ca41a3-cfac-41fa-faef-cd7f71004abd",
    "slideshow": {
     "slide_type": "fragment"
    }
   },
   "outputs": [
    {
     "data": {
      "text/plain": [
       "2"
      ]
     },
     "execution_count": 7,
     "metadata": {},
     "output_type": "execute_result"
    }
   ],
   "source": [
    "1+1"
   ]
  },
  {
   "cell_type": "markdown",
   "metadata": {
    "id": "6DNKJTAY_yQA",
    "slideshow": {
     "slide_type": "subslide"
    }
   },
   "source": [
    "As operações matemáticas são executadas conforme o esperado."
   ]
  },
  {
   "cell_type": "code",
   "execution_count": 10,
   "metadata": {
    "ExecuteTime": {
     "end_time": "2021-01-30T17:56:06.930122Z",
     "start_time": "2021-01-30T17:56:06.925873Z"
    },
    "colab": {
     "base_uri": "https://localhost:8080/"
    },
    "id": "JVvf1Ynr_1Rt",
    "outputId": "20596767-b506-4d72-a43a-3a1b39bd5a11",
    "slideshow": {
     "slide_type": "fragment"
    }
   },
   "outputs": [
    {
     "name": "stdout",
     "output_type": "stream",
     "text": [
      "7\n"
     ]
    }
   ],
   "source": [
    "def foo(a, b):\n",
    "    print(a+b)\n",
    "\n",
    "foo(3,4)"
   ]
  },
  {
   "cell_type": "code",
   "execution_count": 6,
   "metadata": {
    "ExecuteTime": {
     "end_time": "2021-01-30T17:56:13.062270Z",
     "start_time": "2021-01-30T17:56:13.058791Z"
    },
    "colab": {
     "base_uri": "https://localhost:8080/"
    },
    "id": "r_SwvK8v_28t",
    "outputId": "b74484f0-48af-4974-b0b0-cc79e30b706b",
    "slideshow": {
     "slide_type": "fragment"
    }
   },
   "outputs": [
    {
     "data": {
      "text/plain": [
       "2"
      ]
     },
     "execution_count": 6,
     "metadata": {},
     "output_type": "execute_result"
    }
   ],
   "source": []
  },
  {
   "cell_type": "code",
   "execution_count": 9,
   "metadata": {
    "ExecuteTime": {
     "end_time": "2021-01-30T17:56:18.612503Z",
     "start_time": "2021-01-30T17:56:18.608164Z"
    },
    "colab": {
     "base_uri": "https://localhost:8080/"
    },
    "id": "tEd_U6AG_4CV",
    "outputId": "209472e2-e45f-4db5-ee54-978c5b068b6a",
    "slideshow": {
     "slide_type": "fragment"
    }
   },
   "outputs": [
    {
     "data": {
      "text/plain": [
       "-1"
      ]
     },
     "execution_count": 9,
     "metadata": {},
     "output_type": "execute_result"
    }
   ],
   "source": []
  },
  {
   "cell_type": "code",
   "execution_count": 11,
   "metadata": {
    "ExecuteTime": {
     "end_time": "2021-01-30T17:56:28.872863Z",
     "start_time": "2021-01-30T17:56:28.868823Z"
    },
    "colab": {
     "base_uri": "https://localhost:8080/"
    },
    "id": "XU_xoW5x_58X",
    "outputId": "2813c198-0962-4184-86da-b76855b3804f",
    "slideshow": {
     "slide_type": "fragment"
    }
   },
   "outputs": [
    {
     "name": "stdout",
     "output_type": "stream",
     "text": [
      "Soma é 30\n"
     ]
    }
   ],
   "source": [
    "a = 10\n",
    "b = 20\n",
    "\n",
    "e = a + b\n",
    "\n",
    "print(f'Soma é {e}')"
   ]
  },
  {
   "cell_type": "code",
   "execution_count": 12,
   "metadata": {
    "ExecuteTime": {
     "end_time": "2021-01-30T17:56:43.939022Z",
     "start_time": "2021-01-30T17:56:43.936190Z"
    },
    "colab": {
     "base_uri": "https://localhost:8080/"
    },
    "id": "BWXEOZ2Mujm8",
    "outputId": "a4cec351-55a4-403a-aa9c-afeb802e7d24",
    "slideshow": {
     "slide_type": "fragment"
    }
   },
   "outputs": [],
   "source": [
    "a = 10//3"
   ]
  },
  {
   "cell_type": "code",
   "execution_count": 16,
   "metadata": {},
   "outputs": [
    {
     "data": {
      "text/plain": [
       "1.0"
      ]
     },
     "execution_count": 16,
     "metadata": {},
     "output_type": "execute_result"
    }
   ],
   "source": [
    "8 / (2*(2+2))"
   ]
  },
  {
   "cell_type": "code",
   "execution_count": 30,
   "metadata": {
    "ExecuteTime": {
     "end_time": "2021-01-30T17:56:51.176508Z",
     "start_time": "2021-01-30T17:56:51.173524Z"
    },
    "colab": {
     "base_uri": "https://localhost:8080/"
    },
    "id": "3DFE6vs32qBv",
    "outputId": "1bb35834-3dfd-4d44-8977-81c3ddb2479d",
    "slideshow": {
     "slide_type": "fragment"
    }
   },
   "outputs": [
    {
     "data": {
      "text/plain": [
       "[6, 8]"
      ]
     },
     "execution_count": 30,
     "metadata": {},
     "output_type": "execute_result"
    }
   ],
   "source": [
    "lista = [1,2,3,4,5,6,7,8,9,10]\n",
    "lista = [i * 2 for i in lista]\n",
    "\n",
    "lista[2:4]"
   ]
  },
  {
   "cell_type": "code",
   "execution_count": 31,
   "metadata": {
    "ExecuteTime": {
     "end_time": "2021-01-30T17:58:26.030740Z",
     "start_time": "2021-01-30T17:58:26.027812Z"
    },
    "colab": {
     "base_uri": "https://localhost:8080/"
    },
    "id": "8GrEzPu92wXE",
    "outputId": "8a586e2a-6263-4e8f-ee45-df13b6b02bec",
    "slideshow": {
     "slide_type": "fragment"
    }
   },
   "outputs": [
    {
     "name": "stdout",
     "output_type": "stream",
     "text": [
      "O animal Cao bom\n",
      "O animal Gato bom\n",
      "O animal Cavalo bom\n"
     ]
    }
   ],
   "source": [
    "lista = ['Cao', 'Gato', 'Cavalo']\n",
    "\n",
    "for animal in lista:\n",
    "    print(f'O animal {animal} bom')"
   ]
  },
  {
   "cell_type": "code",
   "execution_count": 41,
   "metadata": {
    "ExecuteTime": {
     "end_time": "2021-01-30T17:58:46.158173Z",
     "start_time": "2021-01-30T17:58:46.154089Z"
    },
    "colab": {
     "base_uri": "https://localhost:8080/"
    },
    "id": "g_ipSq3t2zSc",
    "outputId": "ef05646c-1246-4cd9-802f-a7b790b8bc33",
    "slideshow": {
     "slide_type": "fragment"
    }
   },
   "outputs": [
    {
     "data": {
      "text/plain": [
       "[1, 4, 16, 64]"
      ]
     },
     "execution_count": 41,
     "metadata": {},
     "output_type": "execute_result"
    }
   ],
   "source": [
    "lista_1 = [1,2,4,8]\n",
    "square = []\n",
    "\n",
    "for num in lista_1:\n",
    "    square.append(num*num)\n",
    "\n",
    "square"
   ]
  },
  {
   "cell_type": "code",
   "execution_count": 51,
   "metadata": {
    "scrolled": true
   },
   "outputs": [
    {
     "data": {
      "text/plain": [
       "[1, 4, 16, 64]"
      ]
     },
     "execution_count": 51,
     "metadata": {},
     "output_type": "execute_result"
    }
   ],
   "source": [
    "[n**2 if (n % 2 == 0) else (n) for n in lista_1 ]"
   ]
  },
  {
   "cell_type": "code",
   "execution_count": 61,
   "metadata": {
    "ExecuteTime": {
     "end_time": "2021-01-30T18:03:03.392630Z",
     "start_time": "2021-01-30T18:03:03.389099Z"
    },
    "id": "r_u_csRV26mN",
    "scrolled": true,
    "slideshow": {
     "slide_type": "fragment"
    }
   },
   "outputs": [
    {
     "data": {
      "text/plain": [
       "2"
      ]
     },
     "execution_count": 61,
     "metadata": {},
     "output_type": "execute_result"
    }
   ],
   "source": []
  },
  {
   "cell_type": "code",
   "execution_count": 29,
   "metadata": {
    "ExecuteTime": {
     "end_time": "2021-01-30T18:00:10.408148Z",
     "start_time": "2021-01-30T18:00:10.405137Z"
    },
    "colab": {
     "base_uri": "https://localhost:8080/"
    },
    "id": "3ljiLfFs2-v9",
    "outputId": "44a3648e-cc1e-469d-9b98-9ea55f749162",
    "slideshow": {
     "slide_type": "fragment"
    }
   },
   "outputs": [
    {
     "name": "stdout",
     "output_type": "stream",
     "text": [
      "Valor de a= 5  Valor de A=  8\n"
     ]
    }
   ],
   "source": []
  },
  {
   "cell_type": "code",
   "execution_count": 27,
   "metadata": {},
   "outputs": [
    {
     "data": {
      "text/plain": [
       "8"
      ]
     },
     "execution_count": 27,
     "metadata": {},
     "output_type": "execute_result"
    }
   ],
   "source": []
  },
  {
   "cell_type": "code",
   "execution_count": 22,
   "metadata": {
    "ExecuteTime": {
     "end_time": "2021-01-30T18:03:11.851590Z",
     "start_time": "2021-01-30T18:03:11.848599Z"
    },
    "colab": {
     "base_uri": "https://localhost:8080/"
    },
    "id": "ass6qtfF2_h0",
    "outputId": "d451948c-8924-440b-c3b9-62cfc0cbea62",
    "slideshow": {
     "slide_type": "fragment"
    }
   },
   "outputs": [
    {
     "data": {
      "text/plain": [
       "2"
      ]
     },
     "execution_count": 22,
     "metadata": {},
     "output_type": "execute_result"
    }
   ],
   "source": []
  },
  {
   "cell_type": "code",
   "execution_count": 23,
   "metadata": {
    "ExecuteTime": {
     "end_time": "2021-01-30T18:03:14.655880Z",
     "start_time": "2021-01-30T18:03:14.652902Z"
    },
    "colab": {
     "base_uri": "https://localhost:8080/"
    },
    "id": "mXMza9pk3ARU",
    "outputId": "147e1246-cc37-4a2d-d840-8a1a307ec1cb",
    "slideshow": {
     "slide_type": "fragment"
    }
   },
   "outputs": [
    {
     "data": {
      "text/plain": [
       "1"
      ]
     },
     "execution_count": 23,
     "metadata": {},
     "output_type": "execute_result"
    }
   ],
   "source": []
  },
  {
   "cell_type": "code",
   "execution_count": 24,
   "metadata": {
    "ExecuteTime": {
     "end_time": "2021-01-30T18:03:22.560184Z",
     "start_time": "2021-01-30T18:03:22.556884Z"
    },
    "colab": {
     "base_uri": "https://localhost:8080/"
    },
    "id": "oUpPVIxE3BfV",
    "outputId": "5d5172a5-b3a0-4192-d35b-be0252f9ae9a",
    "slideshow": {
     "slide_type": "fragment"
    }
   },
   "outputs": [
    {
     "data": {
      "text/plain": [
       "125"
      ]
     },
     "execution_count": 24,
     "metadata": {},
     "output_type": "execute_result"
    }
   ],
   "source": []
  },
  {
   "cell_type": "markdown",
   "metadata": {
    "id": "-f_EOf0OBP0N",
    "slideshow": {
     "slide_type": "slide"
    }
   },
   "source": [
    "## Precedência\n",
    "\n",
    "![https://hips.hearstapps.com/hmg-prod.s3.amazonaws.com/images/math1-1564612636.jpg?resize=768:*](https://hips.hearstapps.com/hmg-prod.s3.amazonaws.com/images/math1-1564612636.jpg?resize=512:*)\n",
    "\n",
    "\n",
    "A precedência de operadores segue as padronizações oficiais. Mas, aproveitando um caso polêmico ([leia aqui](https://www.popularmechanics.com/science/math/a28569610/viral-math-problem-2019-solved/)) vamos praticar."
   ]
  },
  {
   "cell_type": "code",
   "execution_count": 32,
   "metadata": {},
   "outputs": [
    {
     "data": {
      "text/plain": [
       "10.0"
      ]
     },
     "execution_count": 32,
     "metadata": {},
     "output_type": "execute_result"
    }
   ],
   "source": []
  },
  {
   "cell_type": "code",
   "execution_count": 30,
   "metadata": {
    "ExecuteTime": {
     "end_time": "2021-01-30T18:06:51.942431Z",
     "start_time": "2021-01-30T18:06:51.939345Z"
    },
    "colab": {
     "base_uri": "https://localhost:8080/"
    },
    "id": "Li3axxEZl7l1",
    "outputId": "3a0dcadf-2059-4cdd-8feb-5d18acdb77ff",
    "slideshow": {
     "slide_type": "fragment"
    }
   },
   "outputs": [
    {
     "data": {
      "text/plain": [
       "16.0"
      ]
     },
     "execution_count": 30,
     "metadata": {},
     "output_type": "execute_result"
    }
   ],
   "source": []
  },
  {
   "cell_type": "code",
   "execution_count": 31,
   "metadata": {
    "ExecuteTime": {
     "end_time": "2021-01-30T18:07:04.902769Z",
     "start_time": "2021-01-30T18:07:04.899440Z"
    },
    "colab": {
     "base_uri": "https://localhost:8080/"
    },
    "id": "d17oovcll7-j",
    "outputId": "140411e2-6ef0-47b1-e9b9-3424e664364a",
    "slideshow": {
     "slide_type": "fragment"
    }
   },
   "outputs": [
    {
     "data": {
      "text/plain": [
       "1.0"
      ]
     },
     "execution_count": 31,
     "metadata": {},
     "output_type": "execute_result"
    }
   ],
   "source": []
  },
  {
   "cell_type": "markdown",
   "metadata": {
    "slideshow": {
     "slide_type": "slide"
    }
   },
   "source": [
    "## Tipos de Dados: Booleanos\n",
    "\n",
    "São dados que representam valores lógicos: verdadeiro (True) e falso (False)"
   ]
  },
  {
   "cell_type": "code",
   "execution_count": 40,
   "metadata": {},
   "outputs": [
    {
     "data": {
      "text/plain": [
       "int"
      ]
     },
     "execution_count": 40,
     "metadata": {},
     "output_type": "execute_result"
    }
   ],
   "source": []
  },
  {
   "cell_type": "code",
   "execution_count": 41,
   "metadata": {
    "scrolled": true
   },
   "outputs": [
    {
     "data": {
      "text/plain": [
       "str"
      ]
     },
     "execution_count": 41,
     "metadata": {},
     "output_type": "execute_result"
    }
   ],
   "source": []
  },
  {
   "cell_type": "code",
   "execution_count": 42,
   "metadata": {},
   "outputs": [
    {
     "data": {
      "text/plain": [
       "str"
      ]
     },
     "execution_count": 42,
     "metadata": {},
     "output_type": "execute_result"
    }
   ],
   "source": []
  },
  {
   "cell_type": "code",
   "execution_count": 43,
   "metadata": {},
   "outputs": [
    {
     "data": {
      "text/plain": [
       "float"
      ]
     },
     "execution_count": 43,
     "metadata": {},
     "output_type": "execute_result"
    }
   ],
   "source": []
  },
  {
   "cell_type": "code",
   "execution_count": 39,
   "metadata": {
    "ExecuteTime": {
     "end_time": "2021-01-30T18:10:16.429830Z",
     "start_time": "2021-01-30T18:10:16.426778Z"
    },
    "slideshow": {
     "slide_type": "slide"
    }
   },
   "outputs": [
    {
     "name": "stdout",
     "output_type": "stream",
     "text": [
      "1\n",
      "<class 'int'>\n",
      "<class 'str'>\n"
     ]
    }
   ],
   "source": []
  },
  {
   "cell_type": "code",
   "execution_count": 33,
   "metadata": {
    "ExecuteTime": {
     "end_time": "2021-01-30T18:10:40.719237Z",
     "start_time": "2021-01-30T18:10:40.715746Z"
    },
    "slideshow": {
     "slide_type": "slide"
    }
   },
   "outputs": [
    {
     "data": {
      "text/plain": [
       "True"
      ]
     },
     "execution_count": 33,
     "metadata": {},
     "output_type": "execute_result"
    }
   ],
   "source": []
  },
  {
   "cell_type": "code",
   "execution_count": 35,
   "metadata": {},
   "outputs": [
    {
     "data": {
      "text/plain": [
       "False"
      ]
     },
     "execution_count": 35,
     "metadata": {},
     "output_type": "execute_result"
    }
   ],
   "source": []
  },
  {
   "cell_type": "code",
   "execution_count": 36,
   "metadata": {},
   "outputs": [
    {
     "data": {
      "text/plain": [
       "True"
      ]
     },
     "execution_count": 36,
     "metadata": {},
     "output_type": "execute_result"
    }
   ],
   "source": []
  },
  {
   "cell_type": "code",
   "execution_count": 37,
   "metadata": {},
   "outputs": [
    {
     "data": {
      "text/plain": [
       "False"
      ]
     },
     "execution_count": 37,
     "metadata": {},
     "output_type": "execute_result"
    }
   ],
   "source": []
  },
  {
   "cell_type": "code",
   "execution_count": 34,
   "metadata": {
    "ExecuteTime": {
     "end_time": "2021-01-30T18:10:57.230256Z",
     "start_time": "2021-01-30T18:10:57.226896Z"
    },
    "slideshow": {
     "slide_type": "fragment"
    }
   },
   "outputs": [
    {
     "data": {
      "text/plain": [
       "False"
      ]
     },
     "execution_count": 34,
     "metadata": {},
     "output_type": "execute_result"
    }
   ],
   "source": []
  },
  {
   "cell_type": "markdown",
   "metadata": {
    "id": "iE6bv7533FnV",
    "slideshow": {
     "slide_type": "slide"
    }
   },
   "source": [
    "## Operadores Relacionais\n",
    "\n",
    "É possível também fazer uso de operadores relacionais, os quais retornam valores booleanos"
   ]
  },
  {
   "cell_type": "code",
   "execution_count": 44,
   "metadata": {
    "ExecuteTime": {
     "end_time": "2021-01-30T18:11:37.221902Z",
     "start_time": "2021-01-30T18:11:37.219413Z"
    },
    "colab": {
     "base_uri": "https://localhost:8080/"
    },
    "id": "y5lqEmog3C5V",
    "outputId": "abf23dd4-e4f1-4160-96e0-684a0ee40fe8",
    "slideshow": {
     "slide_type": "fragment"
    }
   },
   "outputs": [
    {
     "name": "stdout",
     "output_type": "stream",
     "text": [
      "10\n"
     ]
    }
   ],
   "source": []
  },
  {
   "cell_type": "code",
   "execution_count": 45,
   "metadata": {
    "ExecuteTime": {
     "end_time": "2021-01-30T18:11:50.978219Z",
     "start_time": "2021-01-30T18:11:50.974501Z"
    },
    "colab": {
     "base_uri": "https://localhost:8080/"
    },
    "id": "OW-dpv0a451W",
    "outputId": "b714059b-a1e3-45ad-e45c-bda06b39c3a6",
    "slideshow": {
     "slide_type": "fragment"
    }
   },
   "outputs": [
    {
     "data": {
      "text/plain": [
       "2"
      ]
     },
     "execution_count": 45,
     "metadata": {},
     "output_type": "execute_result"
    }
   ],
   "source": []
  },
  {
   "cell_type": "code",
   "execution_count": 46,
   "metadata": {
    "ExecuteTime": {
     "end_time": "2021-01-30T18:12:10.897171Z",
     "start_time": "2021-01-30T18:12:10.893460Z"
    },
    "colab": {
     "base_uri": "https://localhost:8080/"
    },
    "id": "cFlzaKtK46JX",
    "outputId": "f64c8752-fff2-4803-9419-b91a656eb2d0",
    "slideshow": {
     "slide_type": "fragment"
    }
   },
   "outputs": [
    {
     "data": {
      "text/plain": [
       "True"
      ]
     },
     "execution_count": 46,
     "metadata": {},
     "output_type": "execute_result"
    }
   ],
   "source": []
  },
  {
   "cell_type": "code",
   "execution_count": 47,
   "metadata": {
    "ExecuteTime": {
     "end_time": "2021-01-30T18:12:21.159496Z",
     "start_time": "2021-01-30T18:12:21.154543Z"
    },
    "colab": {
     "base_uri": "https://localhost:8080/"
    },
    "id": "FIhOtrmV46x0",
    "outputId": "aa5224e7-abd4-4eb5-e012-fb93468cbeea",
    "slideshow": {
     "slide_type": "fragment"
    }
   },
   "outputs": [
    {
     "data": {
      "text/plain": [
       "False"
      ]
     },
     "execution_count": 47,
     "metadata": {},
     "output_type": "execute_result"
    }
   ],
   "source": []
  },
  {
   "cell_type": "code",
   "execution_count": null,
   "metadata": {},
   "outputs": [],
   "source": []
  },
  {
   "cell_type": "code",
   "execution_count": 48,
   "metadata": {
    "ExecuteTime": {
     "end_time": "2021-01-30T18:12:33.502142Z",
     "start_time": "2021-01-30T18:12:33.498239Z"
    },
    "colab": {
     "base_uri": "https://localhost:8080/"
    },
    "id": "itpYuLlw47hF",
    "outputId": "4def1c56-b639-47bc-e317-164a03115b20",
    "slideshow": {
     "slide_type": "fragment"
    }
   },
   "outputs": [
    {
     "data": {
      "text/plain": [
       "False"
      ]
     },
     "execution_count": 48,
     "metadata": {},
     "output_type": "execute_result"
    }
   ],
   "source": []
  },
  {
   "cell_type": "code",
   "execution_count": 49,
   "metadata": {
    "ExecuteTime": {
     "end_time": "2021-01-30T18:12:49.853081Z",
     "start_time": "2021-01-30T18:12:49.849630Z"
    },
    "colab": {
     "base_uri": "https://localhost:8080/"
    },
    "id": "JDAIkRZf5dGc",
    "outputId": "cfbc0fb3-07a1-4d11-bebc-853805146afe",
    "slideshow": {
     "slide_type": "fragment"
    }
   },
   "outputs": [
    {
     "data": {
      "text/plain": [
       "True"
      ]
     },
     "execution_count": 49,
     "metadata": {},
     "output_type": "execute_result"
    }
   ],
   "source": []
  },
  {
   "cell_type": "code",
   "execution_count": 50,
   "metadata": {
    "ExecuteTime": {
     "end_time": "2021-01-30T18:13:04.483424Z",
     "start_time": "2021-01-30T18:13:04.479591Z"
    },
    "colab": {
     "base_uri": "https://localhost:8080/"
    },
    "id": "GAqB6fCc5jGu",
    "outputId": "10f517a0-722c-462d-cb6d-5d4c5b476172",
    "slideshow": {
     "slide_type": "fragment"
    }
   },
   "outputs": [
    {
     "data": {
      "text/plain": [
       "True"
      ]
     },
     "execution_count": 50,
     "metadata": {},
     "output_type": "execute_result"
    }
   ],
   "source": []
  },
  {
   "cell_type": "code",
   "execution_count": 51,
   "metadata": {
    "ExecuteTime": {
     "end_time": "2021-01-30T18:13:21.966741Z",
     "start_time": "2021-01-30T18:13:21.962949Z"
    },
    "colab": {
     "base_uri": "https://localhost:8080/"
    },
    "id": "MwHGGS3Q5mts",
    "outputId": "0e8cfc68-1134-4927-9baa-435977f0f8c8",
    "slideshow": {
     "slide_type": "fragment"
    }
   },
   "outputs": [
    {
     "data": {
      "text/plain": [
       "True"
      ]
     },
     "execution_count": 51,
     "metadata": {},
     "output_type": "execute_result"
    }
   ],
   "source": []
  },
  {
   "cell_type": "code",
   "execution_count": 52,
   "metadata": {
    "ExecuteTime": {
     "end_time": "2021-01-30T18:13:32.150388Z",
     "start_time": "2021-01-30T18:13:32.148261Z"
    },
    "id": "TLkB80445suF",
    "slideshow": {
     "slide_type": "fragment"
    }
   },
   "outputs": [],
   "source": []
  },
  {
   "cell_type": "code",
   "execution_count": 53,
   "metadata": {
    "ExecuteTime": {
     "end_time": "2021-01-30T18:13:45.396735Z",
     "start_time": "2021-01-30T18:13:45.393638Z"
    },
    "colab": {
     "base_uri": "https://localhost:8080/"
    },
    "id": "RhVlteB45wbd",
    "outputId": "2aab255b-25ec-4816-89fe-b3b2d188b1b0",
    "slideshow": {
     "slide_type": "fragment"
    }
   },
   "outputs": [
    {
     "data": {
      "text/plain": [
       "True"
      ]
     },
     "execution_count": 53,
     "metadata": {},
     "output_type": "execute_result"
    }
   ],
   "source": []
  },
  {
   "cell_type": "code",
   "execution_count": 54,
   "metadata": {
    "ExecuteTime": {
     "end_time": "2021-01-30T18:13:50.320062Z",
     "start_time": "2021-01-30T18:13:50.313287Z"
    },
    "colab": {
     "base_uri": "https://localhost:8080/"
    },
    "id": "Ptc_muRO5yOF",
    "outputId": "b7a3af69-52c8-4c65-fe30-423327ae681c",
    "slideshow": {
     "slide_type": "fragment"
    }
   },
   "outputs": [
    {
     "data": {
      "text/plain": [
       "False"
      ]
     },
     "execution_count": 54,
     "metadata": {},
     "output_type": "execute_result"
    }
   ],
   "source": []
  },
  {
   "cell_type": "code",
   "execution_count": 55,
   "metadata": {
    "ExecuteTime": {
     "end_time": "2021-01-30T18:14:53.108545Z",
     "start_time": "2021-01-30T18:14:53.104092Z"
    },
    "colab": {
     "base_uri": "https://localhost:8080/"
    },
    "id": "gr3yvWx653BO",
    "outputId": "10ed401f-c8da-4570-d942-263c2baf8177",
    "slideshow": {
     "slide_type": "fragment"
    }
   },
   "outputs": [
    {
     "data": {
      "text/plain": [
       "True"
      ]
     },
     "execution_count": 55,
     "metadata": {},
     "output_type": "execute_result"
    }
   ],
   "source": []
  },
  {
   "cell_type": "code",
   "execution_count": 57,
   "metadata": {},
   "outputs": [
    {
     "data": {
      "text/plain": [
       "True"
      ]
     },
     "execution_count": 57,
     "metadata": {},
     "output_type": "execute_result"
    }
   ],
   "source": []
  },
  {
   "cell_type": "code",
   "execution_count": 58,
   "metadata": {},
   "outputs": [
    {
     "data": {
      "text/plain": [
       "False"
      ]
     },
     "execution_count": 58,
     "metadata": {},
     "output_type": "execute_result"
    }
   ],
   "source": []
  },
  {
   "cell_type": "code",
   "execution_count": 61,
   "metadata": {},
   "outputs": [
    {
     "data": {
      "text/plain": [
       "True"
      ]
     },
     "execution_count": 61,
     "metadata": {},
     "output_type": "execute_result"
    }
   ],
   "source": []
  },
  {
   "cell_type": "code",
   "execution_count": 59,
   "metadata": {
    "ExecuteTime": {
     "end_time": "2021-01-30T18:15:30.967168Z",
     "start_time": "2021-01-30T18:15:30.964979Z"
    },
    "id": "vAqd1fIr5-VM",
    "slideshow": {
     "slide_type": "fragment"
    }
   },
   "outputs": [],
   "source": []
  },
  {
   "cell_type": "code",
   "execution_count": 60,
   "metadata": {
    "ExecuteTime": {
     "end_time": "2021-01-30T18:15:37.760345Z",
     "start_time": "2021-01-30T18:15:37.757165Z"
    },
    "colab": {
     "base_uri": "https://localhost:8080/"
    },
    "id": "QzeMDE538P88",
    "outputId": "dd5663ad-7028-4ce6-ea3d-17e435638523",
    "slideshow": {
     "slide_type": "fragment"
    }
   },
   "outputs": [
    {
     "data": {
      "text/plain": [
       "True"
      ]
     },
     "execution_count": 60,
     "metadata": {},
     "output_type": "execute_result"
    }
   ],
   "source": []
  },
  {
   "cell_type": "markdown",
   "metadata": {
    "slideshow": {
     "slide_type": "slide"
    }
   },
   "source": [
    "## Tipos de Dados: Strings\n",
    "\n",
    "- String é um tipo de dado que armazena conjuntos de caracteres.\n",
    "- Podemos criar uma string usando aspas simples ou aspas duplas\n",
    "    - E há um motivo para isso, pense no uso de apóstrofos ...\n",
    "    "
   ]
  },
  {
   "cell_type": "markdown",
   "metadata": {
    "slideshow": {
     "slide_type": "slide"
    }
   },
   "source": [
    "### Exemplo de Strings"
   ]
  },
  {
   "cell_type": "code",
   "execution_count": 62,
   "metadata": {
    "ExecuteTime": {
     "end_time": "2021-01-30T18:22:24.938827Z",
     "start_time": "2021-01-30T18:22:24.935910Z"
    },
    "slideshow": {
     "slide_type": "fragment"
    }
   },
   "outputs": [
    {
     "name": "stdout",
     "output_type": "stream",
     "text": [
      "esta é uma variável do tipo string\n"
     ]
    }
   ],
   "source": []
  },
  {
   "cell_type": "code",
   "execution_count": 63,
   "metadata": {
    "ExecuteTime": {
     "end_time": "2021-01-30T18:22:38.223945Z",
     "start_time": "2021-01-30T18:22:38.221331Z"
    },
    "slideshow": {
     "slide_type": "fragment"
    }
   },
   "outputs": [
    {
     "name": "stdout",
     "output_type": "stream",
     "text": [
      "aqui é uma nova string\n"
     ]
    }
   ],
   "source": []
  },
  {
   "cell_type": "code",
   "execution_count": 64,
   "metadata": {},
   "outputs": [
    {
     "data": {
      "text/plain": [
       "str"
      ]
     },
     "execution_count": 64,
     "metadata": {},
     "output_type": "execute_result"
    }
   ],
   "source": []
  },
  {
   "cell_type": "code",
   "execution_count": 66,
   "metadata": {},
   "outputs": [
    {
     "data": {
      "text/plain": [
       "str"
      ]
     },
     "execution_count": 66,
     "metadata": {},
     "output_type": "execute_result"
    }
   ],
   "source": []
  },
  {
   "cell_type": "code",
   "execution_count": 67,
   "metadata": {
    "ExecuteTime": {
     "end_time": "2021-01-30T18:22:56.254853Z",
     "start_time": "2021-01-30T18:22:56.251688Z"
    },
    "slideshow": {
     "slide_type": "slide"
    }
   },
   "outputs": [
    {
     "name": "stdout",
     "output_type": "stream",
     "text": [
      "João ficou espantando e disse: 'que coisa!'\n"
     ]
    }
   ],
   "source": []
  },
  {
   "cell_type": "markdown",
   "metadata": {
    "slideshow": {
     "slide_type": "slide"
    }
   },
   "source": [
    "Muitos objetos Python podem ser convertidos em uma string com a função `str`"
   ]
  },
  {
   "cell_type": "code",
   "execution_count": 68,
   "metadata": {
    "ExecuteTime": {
     "end_time": "2021-01-30T18:23:24.245165Z",
     "start_time": "2021-01-30T18:23:24.242626Z"
    },
    "slideshow": {
     "slide_type": "fragment"
    }
   },
   "outputs": [],
   "source": []
  },
  {
   "cell_type": "code",
   "execution_count": 69,
   "metadata": {
    "ExecuteTime": {
     "end_time": "2021-01-30T18:23:30.860113Z",
     "start_time": "2021-01-30T18:23:30.857036Z"
    },
    "slideshow": {
     "slide_type": "fragment"
    }
   },
   "outputs": [
    {
     "data": {
      "text/plain": [
       "float"
      ]
     },
     "execution_count": 69,
     "metadata": {},
     "output_type": "execute_result"
    }
   ],
   "source": []
  },
  {
   "cell_type": "code",
   "execution_count": 70,
   "metadata": {
    "ExecuteTime": {
     "end_time": "2021-01-30T18:23:58.431724Z",
     "start_time": "2021-01-30T18:23:58.429416Z"
    },
    "slideshow": {
     "slide_type": "fragment"
    }
   },
   "outputs": [],
   "source": []
  },
  {
   "cell_type": "code",
   "execution_count": 71,
   "metadata": {
    "ExecuteTime": {
     "end_time": "2021-01-30T18:24:01.522397Z",
     "start_time": "2021-01-30T18:24:01.517987Z"
    },
    "slideshow": {
     "slide_type": "fragment"
    }
   },
   "outputs": [
    {
     "data": {
      "text/plain": [
       "'5.6'"
      ]
     },
     "execution_count": 71,
     "metadata": {},
     "output_type": "execute_result"
    }
   ],
   "source": []
  },
  {
   "cell_type": "code",
   "execution_count": 72,
   "metadata": {
    "ExecuteTime": {
     "end_time": "2021-01-30T18:24:09.770740Z",
     "start_time": "2021-01-30T18:24:09.767010Z"
    },
    "slideshow": {
     "slide_type": "fragment"
    }
   },
   "outputs": [
    {
     "data": {
      "text/plain": [
       "str"
      ]
     },
     "execution_count": 72,
     "metadata": {},
     "output_type": "execute_result"
    }
   ],
   "source": []
  },
  {
   "cell_type": "markdown",
   "metadata": {
    "id": "V5ArXm2q8r3L",
    "slideshow": {
     "slide_type": "slide"
    }
   },
   "source": [
    "## Estruturas de armazenamento\n",
    "\n",
    "Listas em Python são criadas fazendo uso de colchetes [ ] e podem armazenar tipos distintos de variáveis"
   ]
  },
  {
   "cell_type": "code",
   "execution_count": null,
   "metadata": {},
   "outputs": [],
   "source": [
    "# Lista é um vetor\n",
    "# Matriz é uma lista de listas"
   ]
  },
  {
   "cell_type": "code",
   "execution_count": 73,
   "metadata": {
    "ExecuteTime": {
     "end_time": "2021-01-30T18:28:22.092523Z",
     "start_time": "2021-01-30T18:28:22.088077Z"
    },
    "id": "pDAJTJqh8rdK",
    "slideshow": {
     "slide_type": "fragment"
    }
   },
   "outputs": [
    {
     "data": {
      "text/plain": [
       "['maça', 'banana', 'goiaba']"
      ]
     },
     "execution_count": 73,
     "metadata": {},
     "output_type": "execute_result"
    }
   ],
   "source": []
  },
  {
   "cell_type": "code",
   "execution_count": 74,
   "metadata": {
    "ExecuteTime": {
     "end_time": "2021-01-30T18:28:35.160517Z",
     "start_time": "2021-01-30T18:28:35.156958Z"
    },
    "colab": {
     "base_uri": "https://localhost:8080/"
    },
    "id": "cae0T0We8dfE",
    "outputId": "912f7a1e-8011-429f-bab7-09bdeeeb007d",
    "slideshow": {
     "slide_type": "fragment"
    }
   },
   "outputs": [
    {
     "data": {
      "text/plain": [
       "3"
      ]
     },
     "execution_count": 74,
     "metadata": {},
     "output_type": "execute_result"
    }
   ],
   "source": [
    "# Quantos elementos existem na lista\n"
   ]
  },
  {
   "cell_type": "code",
   "execution_count": 75,
   "metadata": {
    "ExecuteTime": {
     "end_time": "2021-01-30T18:28:43.705889Z",
     "start_time": "2021-01-30T18:28:43.702915Z"
    },
    "colab": {
     "base_uri": "https://localhost:8080/"
    },
    "id": "kutN_-Sz87E-",
    "outputId": "43fe7814-0f32-43c2-cd4d-0fb1ca91dd53",
    "slideshow": {
     "slide_type": "fragment"
    }
   },
   "outputs": [
    {
     "data": {
      "text/plain": [
       "True"
      ]
     },
     "execution_count": 75,
     "metadata": {},
     "output_type": "execute_result"
    }
   ],
   "source": [
    "# há maça na lista?\n"
   ]
  },
  {
   "cell_type": "code",
   "execution_count": 76,
   "metadata": {},
   "outputs": [
    {
     "data": {
      "text/plain": [
       "False"
      ]
     },
     "execution_count": 76,
     "metadata": {},
     "output_type": "execute_result"
    }
   ],
   "source": []
  },
  {
   "cell_type": "code",
   "execution_count": 77,
   "metadata": {},
   "outputs": [
    {
     "data": {
      "text/plain": [
       "list"
      ]
     },
     "execution_count": 77,
     "metadata": {},
     "output_type": "execute_result"
    }
   ],
   "source": []
  },
  {
   "cell_type": "code",
   "execution_count": 78,
   "metadata": {
    "ExecuteTime": {
     "end_time": "2021-01-30T18:28:54.548841Z",
     "start_time": "2021-01-30T18:28:54.546535Z"
    },
    "id": "yxmFwXv48-K9",
    "slideshow": {
     "slide_type": "fragment"
    }
   },
   "outputs": [],
   "source": []
  },
  {
   "cell_type": "code",
   "execution_count": 79,
   "metadata": {
    "ExecuteTime": {
     "end_time": "2021-01-30T18:28:57.100651Z",
     "start_time": "2021-01-30T18:28:57.097869Z"
    },
    "colab": {
     "base_uri": "https://localhost:8080/"
    },
    "id": "wDzDy1X39CZv",
    "outputId": "1e25c3f2-64aa-40a1-dd99-020af9283d99",
    "slideshow": {
     "slide_type": "subslide"
    }
   },
   "outputs": [
    {
     "data": {
      "text/plain": [
       "['maça', 'banana', 'goiaba', 4.5]"
      ]
     },
     "execution_count": 79,
     "metadata": {},
     "output_type": "execute_result"
    }
   ],
   "source": []
  },
  {
   "cell_type": "code",
   "execution_count": 80,
   "metadata": {
    "ExecuteTime": {
     "end_time": "2021-01-30T18:30:06.387910Z",
     "start_time": "2021-01-30T18:30:06.384785Z"
    },
    "colab": {
     "base_uri": "https://localhost:8080/",
     "height": 35
    },
    "id": "-cc-wHIk9C31",
    "outputId": "ca9683e8-fc02-41f0-e6c2-018042fd6b66",
    "slideshow": {
     "slide_type": "fragment"
    }
   },
   "outputs": [
    {
     "data": {
      "text/plain": [
       "'maça'"
      ]
     },
     "execution_count": 80,
     "metadata": {},
     "output_type": "execute_result"
    }
   ],
   "source": []
  },
  {
   "cell_type": "code",
   "execution_count": 81,
   "metadata": {
    "ExecuteTime": {
     "end_time": "2021-01-30T18:30:21.778307Z",
     "start_time": "2021-01-30T18:30:21.774568Z"
    },
    "colab": {
     "base_uri": "https://localhost:8080/"
    },
    "id": "EKNrVC9K9He3",
    "outputId": "72da07cc-306b-4672-fde9-480409a7b510",
    "slideshow": {
     "slide_type": "fragment"
    }
   },
   "outputs": [
    {
     "data": {
      "text/plain": [
       "4.5"
      ]
     },
     "execution_count": 81,
     "metadata": {},
     "output_type": "execute_result"
    }
   ],
   "source": []
  },
  {
   "cell_type": "code",
   "execution_count": null,
   "metadata": {},
   "outputs": [],
   "source": []
  },
  {
   "cell_type": "code",
   "execution_count": 83,
   "metadata": {
    "ExecuteTime": {
     "end_time": "2021-01-30T18:30:33.132409Z",
     "start_time": "2021-01-30T18:30:33.130144Z"
    },
    "id": "BtF_BWARnnyL",
    "slideshow": {
     "slide_type": "subslide"
    }
   },
   "outputs": [],
   "source": []
  },
  {
   "cell_type": "code",
   "execution_count": 84,
   "metadata": {
    "ExecuteTime": {
     "end_time": "2021-01-30T18:30:36.877603Z",
     "start_time": "2021-01-30T18:30:36.875060Z"
    },
    "colab": {
     "base_uri": "https://localhost:8080/"
    },
    "id": "Ww1NANMgnn8g",
    "outputId": "430d34de-9f74-4382-c1d1-5022fedd0387",
    "slideshow": {
     "slide_type": "fragment"
    }
   },
   "outputs": [
    {
     "name": "stdout",
     "output_type": "stream",
     "text": [
      "[3, 2, 1]\n"
     ]
    }
   ],
   "source": []
  },
  {
   "cell_type": "code",
   "execution_count": 85,
   "metadata": {
    "ExecuteTime": {
     "end_time": "2021-01-30T18:30:44.999886Z",
     "start_time": "2021-01-30T18:30:44.996905Z"
    },
    "colab": {
     "base_uri": "https://localhost:8080/"
    },
    "id": "7nWBoo18noAB",
    "outputId": "19d0d85b-9fab-4fd6-eeda-55b2191eda59",
    "slideshow": {
     "slide_type": "fragment"
    }
   },
   "outputs": [
    {
     "name": "stdout",
     "output_type": "stream",
     "text": [
      "[3, 2, 1] 1\n"
     ]
    }
   ],
   "source": []
  },
  {
   "cell_type": "code",
   "execution_count": 86,
   "metadata": {
    "ExecuteTime": {
     "end_time": "2021-01-30T18:32:47.293966Z",
     "start_time": "2021-01-30T18:32:47.291242Z"
    },
    "colab": {
     "base_uri": "https://localhost:8080/"
    },
    "id": "_xxJ22kHnoDU",
    "outputId": "7584dd06-1381-4396-ab61-9d86ef2da7d9",
    "slideshow": {
     "slide_type": "fragment"
    }
   },
   "outputs": [
    {
     "name": "stdout",
     "output_type": "stream",
     "text": [
      "1\n"
     ]
    }
   ],
   "source": []
  },
  {
   "cell_type": "code",
   "execution_count": 87,
   "metadata": {
    "ExecuteTime": {
     "end_time": "2021-01-30T18:33:22.634449Z",
     "start_time": "2021-01-30T18:33:22.632349Z"
    },
    "id": "LET0h_a_n0TZ",
    "slideshow": {
     "slide_type": "subslide"
    }
   },
   "outputs": [],
   "source": []
  },
  {
   "cell_type": "code",
   "execution_count": 88,
   "metadata": {
    "ExecuteTime": {
     "end_time": "2021-01-30T18:34:18.410885Z",
     "start_time": "2021-01-30T18:34:18.405849Z"
    },
    "colab": {
     "base_uri": "https://localhost:8080/"
    },
    "id": "sQuWq-V3n0WW",
    "outputId": "688bb2a3-b334-44f0-ff72-71da2d34759c",
    "slideshow": {
     "slide_type": "fragment"
    }
   },
   "outputs": [
    {
     "data": {
      "text/plain": [
       "[3, 2, 1, 'elem']"
      ]
     },
     "execution_count": 88,
     "metadata": {},
     "output_type": "execute_result"
    }
   ],
   "source": []
  },
  {
   "cell_type": "code",
   "execution_count": 89,
   "metadata": {
    "ExecuteTime": {
     "end_time": "2021-01-30T18:34:22.009432Z",
     "start_time": "2021-01-30T18:34:22.006478Z"
    },
    "id": "DzCRYaZjn0aW",
    "slideshow": {
     "slide_type": "fragment"
    }
   },
   "outputs": [],
   "source": []
  },
  {
   "cell_type": "code",
   "execution_count": 90,
   "metadata": {
    "ExecuteTime": {
     "end_time": "2021-01-30T18:34:25.830548Z",
     "start_time": "2021-01-30T18:34:25.827437Z"
    },
    "colab": {
     "base_uri": "https://localhost:8080/",
     "height": 35
    },
    "id": "k2F98LX_n0ef",
    "outputId": "074bdae0-baa0-497b-93cf-e80ac6e667ba",
    "slideshow": {
     "slide_type": "fragment"
    }
   },
   "outputs": [
    {
     "data": {
      "text/plain": [
       "'elem'"
      ]
     },
     "execution_count": 90,
     "metadata": {},
     "output_type": "execute_result"
    }
   ],
   "source": []
  },
  {
   "cell_type": "code",
   "execution_count": 91,
   "metadata": {},
   "outputs": [
    {
     "data": {
      "text/plain": [
       "[3, 2, 1]"
      ]
     },
     "execution_count": 91,
     "metadata": {},
     "output_type": "execute_result"
    }
   ],
   "source": []
  },
  {
   "cell_type": "markdown",
   "metadata": {
    "id": "flgU-Gy4-R8U",
    "slideshow": {
     "slide_type": "subslide"
    }
   },
   "source": [
    "Outra estrutura em Python são as tuplas, que são listas imutáveis. Elas são caracterizadas por colchetes ( ) "
   ]
  },
  {
   "cell_type": "code",
   "execution_count": 92,
   "metadata": {
    "ExecuteTime": {
     "end_time": "2021-01-30T18:40:28.712127Z",
     "start_time": "2021-01-30T18:40:28.707648Z"
    },
    "id": "-NgTocV79Mne",
    "slideshow": {
     "slide_type": "fragment"
    }
   },
   "outputs": [],
   "source": []
  },
  {
   "cell_type": "code",
   "execution_count": 93,
   "metadata": {
    "ExecuteTime": {
     "end_time": "2021-01-30T18:40:33.580290Z",
     "start_time": "2021-01-30T18:40:33.577215Z"
    },
    "colab": {
     "base_uri": "https://localhost:8080/",
     "height": 35
    },
    "id": "IuNT-8QI-bYk",
    "outputId": "b0a5fc13-706d-441d-ab2b-a614b8e0d3c2",
    "slideshow": {
     "slide_type": "fragment"
    }
   },
   "outputs": [
    {
     "data": {
      "text/plain": [
       "'maça'"
      ]
     },
     "execution_count": 93,
     "metadata": {},
     "output_type": "execute_result"
    }
   ],
   "source": []
  },
  {
   "cell_type": "code",
   "execution_count": null,
   "metadata": {
    "ExecuteTime": {
     "end_time": "2021-01-30T18:41:04.052212Z",
     "start_time": "2021-01-30T18:41:04.044850Z"
    },
    "colab": {
     "base_uri": "https://localhost:8080/",
     "height": 164
    },
    "id": "Hy8_U8KW-cZc",
    "outputId": "1d7b82cf-49e7-40f7-ff63-9fb21e56c6c5",
    "slideshow": {
     "slide_type": "fragment"
    }
   },
   "outputs": [],
   "source": []
  },
  {
   "cell_type": "markdown",
   "metadata": {
    "slideshow": {
     "slide_type": "slide"
    }
   },
   "source": [
    "Como strings são sequências de caracteres, estas podem ser tratatadas como outras sequências, tais como listas e tuplas:"
   ]
  },
  {
   "cell_type": "code",
   "execution_count": 95,
   "metadata": {
    "ExecuteTime": {
     "end_time": "2021-01-30T18:45:15.078965Z",
     "start_time": "2021-01-30T18:45:15.076372Z"
    },
    "slideshow": {
     "slide_type": "fragment"
    }
   },
   "outputs": [],
   "source": []
  },
  {
   "cell_type": "code",
   "execution_count": 96,
   "metadata": {
    "ExecuteTime": {
     "end_time": "2021-01-30T18:45:17.221530Z",
     "start_time": "2021-01-30T18:45:17.218141Z"
    },
    "slideshow": {
     "slide_type": "fragment"
    }
   },
   "outputs": [
    {
     "data": {
      "text/plain": [
       "str"
      ]
     },
     "execution_count": 96,
     "metadata": {},
     "output_type": "execute_result"
    }
   ],
   "source": []
  },
  {
   "cell_type": "code",
   "execution_count": 97,
   "metadata": {
    "ExecuteTime": {
     "end_time": "2021-01-30T18:45:25.678640Z",
     "start_time": "2021-01-30T18:45:25.676069Z"
    },
    "slideshow": {
     "slide_type": "fragment"
    }
   },
   "outputs": [
    {
     "name": "stdout",
     "output_type": "stream",
     "text": [
      "c\n"
     ]
    }
   ],
   "source": []
  },
  {
   "cell_type": "code",
   "execution_count": 99,
   "metadata": {},
   "outputs": [
    {
     "data": {
      "text/plain": [
       "'a'"
      ]
     },
     "execution_count": 99,
     "metadata": {},
     "output_type": "execute_result"
    }
   ],
   "source": []
  },
  {
   "cell_type": "markdown",
   "metadata": {
    "id": "V0fEhrGmoE6R",
    "slideshow": {
     "slide_type": "slide"
    }
   },
   "source": [
    "## Slicing"
   ]
  },
  {
   "cell_type": "code",
   "execution_count": 100,
   "metadata": {
    "ExecuteTime": {
     "end_time": "2021-01-30T18:48:02.245623Z",
     "start_time": "2021-01-30T18:48:02.242666Z"
    },
    "id": "RKNUJ4Ce-isW",
    "slideshow": {
     "slide_type": "fragment"
    }
   },
   "outputs": [],
   "source": []
  },
  {
   "cell_type": "code",
   "execution_count": 101,
   "metadata": {
    "ExecuteTime": {
     "end_time": "2021-01-30T18:48:05.104628Z",
     "start_time": "2021-01-30T18:48:05.100901Z"
    },
    "colab": {
     "base_uri": "https://localhost:8080/"
    },
    "id": "R4odAqK8oG2O",
    "outputId": "21cfd2f1-b9e5-45ce-ccf2-5cd266a627fd",
    "scrolled": true,
    "slideshow": {
     "slide_type": "fragment"
    }
   },
   "outputs": [
    {
     "data": {
      "text/plain": [
       "[0, 1, 2, 3, 4]"
      ]
     },
     "execution_count": 101,
     "metadata": {},
     "output_type": "execute_result"
    }
   ],
   "source": []
  },
  {
   "cell_type": "code",
   "execution_count": 102,
   "metadata": {},
   "outputs": [
    {
     "data": {
      "text/plain": [
       "5"
      ]
     },
     "execution_count": 102,
     "metadata": {},
     "output_type": "execute_result"
    }
   ],
   "source": []
  },
  {
   "cell_type": "code",
   "execution_count": 103,
   "metadata": {
    "ExecuteTime": {
     "end_time": "2021-01-30T18:48:13.398908Z",
     "start_time": "2021-01-30T18:48:13.396364Z"
    },
    "colab": {
     "base_uri": "https://localhost:8080/"
    },
    "id": "GUSO2lgAoHdY",
    "outputId": "46a6c444-ac65-4528-92fe-76c468007a00",
    "slideshow": {
     "slide_type": "fragment"
    }
   },
   "outputs": [
    {
     "name": "stdout",
     "output_type": "stream",
     "text": [
      "[0, 1, 2, 3, 4]\n"
     ]
    }
   ],
   "source": [
    "# exibindo toda a lista\n"
   ]
  },
  {
   "cell_type": "code",
   "execution_count": 104,
   "metadata": {},
   "outputs": [
    {
     "name": "stdout",
     "output_type": "stream",
     "text": [
      "[0, 1, 2, 3, 4] 16\n"
     ]
    }
   ],
   "source": []
  },
  {
   "cell_type": "code",
   "execution_count": 105,
   "metadata": {
    "ExecuteTime": {
     "end_time": "2021-01-30T18:50:14.619121Z",
     "start_time": "2021-01-30T18:50:14.615326Z"
    },
    "colab": {
     "base_uri": "https://localhost:8080/"
    },
    "id": "j2Jzkzqaopmn",
    "outputId": "a7df7412-4872-49dd-b4c3-8655c6a29f84",
    "slideshow": {
     "slide_type": "fragment"
    }
   },
   "outputs": [
    {
     "name": "stdout",
     "output_type": "stream",
     "text": [
      "[0, 1, 2]\n"
     ]
    }
   ],
   "source": [
    "# exibindo os primeiros três elementos\n"
   ]
  },
  {
   "cell_type": "code",
   "execution_count": 106,
   "metadata": {
    "ExecuteTime": {
     "end_time": "2021-01-30T18:51:17.421253Z",
     "start_time": "2021-01-30T18:51:17.419052Z"
    },
    "colab": {
     "base_uri": "https://localhost:8080/"
    },
    "id": "iNt_18s4oskt",
    "outputId": "ab481c86-63ad-4292-9680-8e942b54f658",
    "slideshow": {
     "slide_type": "fragment"
    }
   },
   "outputs": [
    {
     "name": "stdout",
     "output_type": "stream",
     "text": [
      "[1, 2, 3, 4]\n"
     ]
    }
   ],
   "source": [
    "# exibindo a partir do segundo elemento\n"
   ]
  },
  {
   "cell_type": "code",
   "execution_count": 107,
   "metadata": {
    "ExecuteTime": {
     "end_time": "2021-01-30T18:51:40.524245Z",
     "start_time": "2021-01-30T18:51:40.520474Z"
    },
    "colab": {
     "base_uri": "https://localhost:8080/"
    },
    "id": "wbRXCJSmoyHG",
    "outputId": "119e7323-00bc-4067-8772-5653fea03020",
    "slideshow": {
     "slide_type": "fragment"
    }
   },
   "outputs": [
    {
     "name": "stdout",
     "output_type": "stream",
     "text": [
      "[0, 1, 2, 3]\n"
     ]
    }
   ],
   "source": [
    "# exibindo todos exceto o último\n"
   ]
  },
  {
   "cell_type": "code",
   "execution_count": null,
   "metadata": {},
   "outputs": [],
   "source": [
    "# R a lista inicia em 1\n",
    "# Python a lista inicia em 0 ZERO, assim como Java, C, C#, etc..."
   ]
  },
  {
   "cell_type": "markdown",
   "metadata": {
    "id": "S1W0EWk1pHHR",
    "slideshow": {
     "slide_type": "slide"
    }
   },
   "source": [
    "## Looping"
   ]
  },
  {
   "cell_type": "code",
   "execution_count": 108,
   "metadata": {
    "ExecuteTime": {
     "end_time": "2021-01-30T18:59:34.893859Z",
     "start_time": "2021-01-30T18:59:34.890611Z"
    },
    "colab": {
     "base_uri": "https://localhost:8080/"
    },
    "id": "qQlpQuiZpIJs",
    "outputId": "031db15b-1940-4b93-de83-92f2ef7321bd",
    "slideshow": {
     "slide_type": "fragment"
    }
   },
   "outputs": [
    {
     "name": "stdout",
     "output_type": "stream",
     "text": [
      "cat\n",
      "dog\n",
      "monkey\n"
     ]
    }
   ],
   "source": []
  },
  {
   "cell_type": "code",
   "execution_count": 110,
   "metadata": {
    "ExecuteTime": {
     "end_time": "2021-01-30T19:00:43.234900Z",
     "start_time": "2021-01-30T19:00:43.231453Z"
    },
    "colab": {
     "base_uri": "https://localhost:8080/"
    },
    "id": "TlqN79JrpJKN",
    "outputId": "d3f65669-4f6a-43d8-f391-8ec6219327e5",
    "slideshow": {
     "slide_type": "slide"
    }
   },
   "outputs": [
    {
     "name": "stdout",
     "output_type": "stream",
     "text": [
      "#1: cat\n",
      "#2: dog\n",
      "#3: monkey\n"
     ]
    }
   ],
   "source": []
  },
  {
   "cell_type": "code",
   "execution_count": 111,
   "metadata": {
    "scrolled": true
   },
   "outputs": [
    {
     "name": "stdout",
     "output_type": "stream",
     "text": [
      ">0 #1: cat\n",
      ">1 #2: dog\n",
      ">2 #3: monkey\n"
     ]
    }
   ],
   "source": []
  },
  {
   "cell_type": "code",
   "execution_count": 113,
   "metadata": {},
   "outputs": [
    {
     "name": "stdout",
     "output_type": "stream",
     "text": [
      ">0 #1: cat\n",
      ">1 #2: dog\n",
      ">2 #3: monkey\n"
     ]
    }
   ],
   "source": []
  },
  {
   "cell_type": "code",
   "execution_count": 118,
   "metadata": {},
   "outputs": [
    {
     "name": "stdout",
     "output_type": "stream",
     "text": [
      "Inidice 0 Sequencia 1 Valor cat\n",
      "Inidice 1 Sequencia 2 Valor dog\n",
      "Inidice 2 Sequencia 3 Valor monkey\n"
     ]
    }
   ],
   "source": []
  },
  {
   "cell_type": "code",
   "execution_count": 120,
   "metadata": {},
   "outputs": [
    {
     "name": "stdout",
     "output_type": "stream",
     "text": [
      "O animal cat está na posição 1\n",
      "O animal dog está na posição 2\n",
      "O animal monkey está na posição 3\n"
     ]
    }
   ],
   "source": []
  },
  {
   "cell_type": "code",
   "execution_count": 115,
   "metadata": {},
   "outputs": [
    {
     "data": {
      "text/plain": [
       "[(0, 'cat'), (1, 'dog'), (2, 'monkey')]"
      ]
     },
     "execution_count": 115,
     "metadata": {},
     "output_type": "execute_result"
    }
   ],
   "source": []
  },
  {
   "cell_type": "code",
   "execution_count": 119,
   "metadata": {},
   "outputs": [
    {
     "name": "stdout",
     "output_type": "stream",
     "text": [
      "Variable   Type      Data/Info\n",
      "------------------------------\n",
      "A          int       8\n",
      "a          float     5.6\n",
      "animal     str       monkey\n",
      "animals    list      n=3\n",
      "b          int       4\n",
      "c          int       3\n",
      "d          float     2.5\n",
      "i          int       2\n",
      "idx        int       2\n",
      "j          str       monkey\n",
      "jj         int       10\n",
      "lista      list      n=4\n",
      "nums       list      n=5\n",
      "s_a        str       casa\n",
      "squares    list      n=5\n",
      "ss         int       222\n",
      "str_var    str       esta é uma variável do tipo string\n",
      "str_var2   str       aqui é uma nova string\n",
      "str_var3   str       João ficou espantando e disse: 'que coisa!'\n",
      "this       module    <module 'this' from '/opt<...>3/lib/python3.6/this.py'>\n",
      "tupla      tuple     n=3\n",
      "x          int       4\n",
      "xs         list      n=3\n"
     ]
    }
   ],
   "source": []
  },
  {
   "cell_type": "code",
   "execution_count": 116,
   "metadata": {},
   "outputs": [],
   "source": []
  },
  {
   "cell_type": "code",
   "execution_count": 117,
   "metadata": {},
   "outputs": [
    {
     "name": "stdout",
     "output_type": "stream",
     "text": [
      "10 222\n"
     ]
    }
   ],
   "source": []
  },
  {
   "cell_type": "code",
   "execution_count": 112,
   "metadata": {
    "ExecuteTime": {
     "end_time": "2021-01-30T19:01:48.348404Z",
     "start_time": "2021-01-30T19:01:48.345066Z"
    },
    "colab": {
     "base_uri": "https://localhost:8080/"
    },
    "id": "iyWMvM-apLWl",
    "outputId": "d3d1ad6c-5403-447c-965d-8d7788f5c001",
    "slideshow": {
     "slide_type": "slide"
    }
   },
   "outputs": [
    {
     "name": "stdout",
     "output_type": "stream",
     "text": [
      "[0, 1, 4, 9, 16]\n"
     ]
    }
   ],
   "source": []
  },
  {
   "cell_type": "code",
   "execution_count": 121,
   "metadata": {
    "ExecuteTime": {
     "end_time": "2021-01-30T19:02:42.684948Z",
     "start_time": "2021-01-30T19:02:42.681775Z"
    }
   },
   "outputs": [
    {
     "name": "stdout",
     "output_type": "stream",
     "text": [
      "0\n",
      "1\n",
      "2\n",
      "3\n",
      "4\n"
     ]
    }
   ],
   "source": []
  },
  {
   "cell_type": "markdown",
   "metadata": {
    "slideshow": {
     "slide_type": "slide"
    }
   },
   "source": [
    "## List Comprehensions\n",
    "\n",
    "*List Comprehensions* (abrangências de lista) é um dos recursos mais amados da linguagem Python.\n",
    "\n",
    "Este recurso permite que você componha uma nova lista de modo *consiso*, na seguinte estrutura:\n",
    "\n",
    "`[expr for val in collection if condition]`\n",
    "\n",
    "O que é equivalente a:\n",
    "\n",
    "<code>\n",
    "result = []\n",
    "for val in collection:\n",
    "    if condintion:\n",
    "        result.append(expr)\n",
    "</code>\n",
    "\n",
    "Não há necessidade de se utilizar sempre o filtro (`if condition`)."
   ]
  },
  {
   "cell_type": "code",
   "execution_count": 122,
   "metadata": {
    "ExecuteTime": {
     "end_time": "2021-01-30T19:09:19.863257Z",
     "start_time": "2021-01-30T19:09:19.858763Z"
    },
    "colab": {
     "base_uri": "https://localhost:8080/"
    },
    "id": "elY251ekpPne",
    "outputId": "84601624-cc8e-40ef-a75e-0d3a43543d67",
    "slideshow": {
     "slide_type": "slide"
    }
   },
   "outputs": [
    {
     "name": "stdout",
     "output_type": "stream",
     "text": [
      "[0, 1, 4, 9, 16]\n"
     ]
    }
   ],
   "source": []
  },
  {
   "cell_type": "code",
   "execution_count": 123,
   "metadata": {
    "ExecuteTime": {
     "end_time": "2021-01-30T19:09:22.739542Z",
     "start_time": "2021-01-30T19:09:22.735645Z"
    },
    "slideshow": {
     "slide_type": "slide"
    }
   },
   "outputs": [
    {
     "data": {
      "text/plain": [
       "[0, 2, 4, 6, 8, 10, 12, 14, 16, 18]"
      ]
     },
     "execution_count": 123,
     "metadata": {},
     "output_type": "execute_result"
    }
   ],
   "source": []
  },
  {
   "cell_type": "code",
   "execution_count": 124,
   "metadata": {},
   "outputs": [
    {
     "data": {
      "text/plain": [
       "[0, 1, 2, 3, 4, 5, 6, 7, 8, 9, 10, 11, 12, 13, 14, 15, 16, 17, 18, 19]"
      ]
     },
     "execution_count": 124,
     "metadata": {},
     "output_type": "execute_result"
    }
   ],
   "source": []
  },
  {
   "cell_type": "code",
   "execution_count": 125,
   "metadata": {},
   "outputs": [
    {
     "data": {
      "text/plain": [
       "[0, 4, 16, 36, 64, 100, 144, 196, 256, 324]"
      ]
     },
     "execution_count": 125,
     "metadata": {},
     "output_type": "execute_result"
    }
   ],
   "source": []
  },
  {
   "cell_type": "markdown",
   "metadata": {
    "slideshow": {
     "slide_type": "slide"
    }
   },
   "source": [
    "## Dicionários\n",
    "\n",
    "- São estruturas de armazenamento de dados que fazem uso do conceito *chave* - *valor*\n",
    "- Dicionários armazenam vários tipos de dados\n"
   ]
  },
  {
   "cell_type": "code",
   "execution_count": 126,
   "metadata": {
    "ExecuteTime": {
     "end_time": "2021-01-30T19:10:05.430241Z",
     "start_time": "2021-01-30T19:10:05.426955Z"
    },
    "slideshow": {
     "slide_type": "slide"
    }
   },
   "outputs": [
    {
     "name": "stdout",
     "output_type": "stream",
     "text": [
      "{'a': 1, 'b': 2, 'c': 3}\n"
     ]
    }
   ],
   "source": []
  },
  {
   "cell_type": "code",
   "execution_count": 128,
   "metadata": {
    "ExecuteTime": {
     "end_time": "2021-01-30T19:10:19.260023Z",
     "start_time": "2021-01-30T19:10:19.256303Z"
    },
    "slideshow": {
     "slide_type": "fragment"
    }
   },
   "outputs": [
    {
     "data": {
      "text/plain": [
       "2"
      ]
     },
     "execution_count": 128,
     "metadata": {},
     "output_type": "execute_result"
    }
   ],
   "source": []
  },
  {
   "cell_type": "code",
   "execution_count": 129,
   "metadata": {
    "ExecuteTime": {
     "end_time": "2021-01-30T19:10:43.396920Z",
     "start_time": "2021-01-30T19:10:43.392130Z"
    },
    "slideshow": {
     "slide_type": "slide"
    }
   },
   "outputs": [
    {
     "data": {
      "text/plain": [
       "True"
      ]
     },
     "execution_count": 129,
     "metadata": {},
     "output_type": "execute_result"
    }
   ],
   "source": []
  },
  {
   "cell_type": "code",
   "execution_count": 130,
   "metadata": {},
   "outputs": [
    {
     "data": {
      "text/plain": [
       "False"
      ]
     },
     "execution_count": 130,
     "metadata": {},
     "output_type": "execute_result"
    }
   ],
   "source": []
  },
  {
   "cell_type": "code",
   "execution_count": 131,
   "metadata": {
    "ExecuteTime": {
     "end_time": "2021-01-30T19:10:49.411535Z",
     "start_time": "2021-01-30T19:10:49.407195Z"
    },
    "slideshow": {
     "slide_type": "fragment"
    }
   },
   "outputs": [
    {
     "data": {
      "text/plain": [
       "dict_keys(['a', 'b', 'c'])"
      ]
     },
     "execution_count": 131,
     "metadata": {},
     "output_type": "execute_result"
    }
   ],
   "source": []
  },
  {
   "cell_type": "code",
   "execution_count": 132,
   "metadata": {},
   "outputs": [
    {
     "data": {
      "text/plain": [
       "dict_values([1, 2, 3])"
      ]
     },
     "execution_count": 132,
     "metadata": {},
     "output_type": "execute_result"
    }
   ],
   "source": []
  },
  {
   "cell_type": "code",
   "execution_count": 133,
   "metadata": {},
   "outputs": [
    {
     "name": "stdout",
     "output_type": "stream",
     "text": [
      "3\n"
     ]
    }
   ],
   "source": []
  },
  {
   "cell_type": "code",
   "execution_count": 135,
   "metadata": {},
   "outputs": [
    {
     "name": "stdout",
     "output_type": "stream",
     "text": [
      "3\n"
     ]
    }
   ],
   "source": []
  },
  {
   "cell_type": "code",
   "execution_count": null,
   "metadata": {},
   "outputs": [],
   "source": []
  },
  {
   "cell_type": "code",
   "execution_count": 137,
   "metadata": {
    "ExecuteTime": {
     "end_time": "2021-01-30T19:11:17.957418Z",
     "start_time": "2021-01-30T19:11:17.953877Z"
    },
    "slideshow": {
     "slide_type": "slide"
    }
   },
   "outputs": [],
   "source": []
  },
  {
   "cell_type": "code",
   "execution_count": 138,
   "metadata": {
    "ExecuteTime": {
     "end_time": "2021-01-30T19:11:20.102133Z",
     "start_time": "2021-01-30T19:11:20.097739Z"
    },
    "scrolled": true,
    "slideshow": {
     "slide_type": "fragment"
    }
   },
   "outputs": [
    {
     "data": {
      "text/plain": [
       "{'Nome': 'Joao', 'Idade': 42, 'Sexo': 'M', 'Peso': 78.5}"
      ]
     },
     "execution_count": 138,
     "metadata": {},
     "output_type": "execute_result"
    }
   ],
   "source": []
  },
  {
   "cell_type": "code",
   "execution_count": 139,
   "metadata": {},
   "outputs": [
    {
     "name": "stdout",
     "output_type": "stream",
     "text": [
      "Joao <class 'str'>\n",
      "42 <class 'int'>\n",
      "M <class 'str'>\n",
      "78.5 <class 'float'>\n"
     ]
    }
   ],
   "source": []
  },
  {
   "cell_type": "markdown",
   "metadata": {
    "slideshow": {
     "slide_type": "slide"
    }
   },
   "source": [
    "### Loops com dicionários"
   ]
  },
  {
   "cell_type": "code",
   "execution_count": 140,
   "metadata": {
    "ExecuteTime": {
     "end_time": "2021-01-30T19:13:02.506398Z",
     "start_time": "2021-01-30T19:13:02.503646Z"
    },
    "slideshow": {
     "slide_type": "fragment"
    }
   },
   "outputs": [],
   "source": []
  },
  {
   "cell_type": "code",
   "execution_count": 141,
   "metadata": {},
   "outputs": [
    {
     "data": {
      "text/plain": [
       "{'pessoa': 2, 'cão': 4, 'aranha': 8}"
      ]
     },
     "execution_count": 141,
     "metadata": {},
     "output_type": "execute_result"
    }
   ],
   "source": []
  },
  {
   "cell_type": "code",
   "execution_count": 142,
   "metadata": {
    "ExecuteTime": {
     "end_time": "2021-01-30T19:15:45.623379Z",
     "start_time": "2021-01-30T19:15:45.619650Z"
    },
    "slideshow": {
     "slide_type": "fragment"
    }
   },
   "outputs": [
    {
     "name": "stdout",
     "output_type": "stream",
     "text": [
      "Um(a) pessoa possui 2 pernas \n",
      "Um(a) cão possui 4 pernas \n",
      "Um(a) aranha possui 8 pernas \n"
     ]
    }
   ],
   "source": []
  },
  {
   "cell_type": "code",
   "execution_count": null,
   "metadata": {},
   "outputs": [],
   "source": [
    "#Dicionário do Python = JSON - Object do JavaScript\n",
    "#Que é usado em APIs WEB"
   ]
  },
  {
   "cell_type": "markdown",
   "metadata": {
    "slideshow": {
     "slide_type": "slide"
    }
   },
   "source": [
    "## Controle de Fluxo\n",
    "\n",
    "- São comandos/recursos que permitem modificar o fluxo de execução de uma aplicação;\n",
    "\n",
    "- Também são chamados de estruturas condicionais;\n",
    "\n",
    "- Implementam a lógica booleana do tipo SE - ENTÃO, SENÃO"
   ]
  },
  {
   "cell_type": "markdown",
   "metadata": {
    "slideshow": {
     "slide_type": "slide"
    }
   },
   "source": [
    "### Comando SE - ENTÃO"
   ]
  },
  {
   "cell_type": "code",
   "execution_count": 143,
   "metadata": {
    "ExecuteTime": {
     "end_time": "2021-01-30T19:16:40.879757Z",
     "start_time": "2021-01-30T19:16:40.877685Z"
    },
    "slideshow": {
     "slide_type": "fragment"
    }
   },
   "outputs": [],
   "source": []
  },
  {
   "cell_type": "code",
   "execution_count": 144,
   "metadata": {
    "ExecuteTime": {
     "end_time": "2021-01-30T19:16:52.475403Z",
     "start_time": "2021-01-30T19:16:52.472581Z"
    },
    "slideshow": {
     "slide_type": "fragment"
    }
   },
   "outputs": [
    {
     "name": "stdout",
     "output_type": "stream",
     "text": [
      "a vale 2\n"
     ]
    }
   ],
   "source": []
  },
  {
   "cell_type": "code",
   "execution_count": 145,
   "metadata": {
    "ExecuteTime": {
     "end_time": "2021-01-30T19:17:36.761489Z",
     "start_time": "2021-01-30T19:17:36.758794Z"
    },
    "slideshow": {
     "slide_type": "subslide"
    }
   },
   "outputs": [],
   "source": []
  },
  {
   "cell_type": "code",
   "execution_count": 146,
   "metadata": {
    "ExecuteTime": {
     "end_time": "2021-01-30T19:17:37.104126Z",
     "start_time": "2021-01-30T19:17:37.099956Z"
    },
    "slideshow": {
     "slide_type": "fragment"
    }
   },
   "outputs": [
    {
     "name": "stdout",
     "output_type": "stream",
     "text": [
      "O valor de 'x' é : 0\n"
     ]
    }
   ],
   "source": []
  },
  {
   "cell_type": "markdown",
   "metadata": {
    "slideshow": {
     "slide_type": "slide"
    }
   },
   "source": [
    "### Comando SE - ENTÃO, SENÃO"
   ]
  },
  {
   "cell_type": "code",
   "execution_count": 147,
   "metadata": {},
   "outputs": [
    {
     "data": {
      "text/plain": [
       "2"
      ]
     },
     "execution_count": 147,
     "metadata": {},
     "output_type": "execute_result"
    }
   ],
   "source": [
    "a"
   ]
  },
  {
   "cell_type": "code",
   "execution_count": 148,
   "metadata": {},
   "outputs": [
    {
     "data": {
      "text/plain": [
       "4"
      ]
     },
     "execution_count": 148,
     "metadata": {},
     "output_type": "execute_result"
    }
   ],
   "source": [
    "b"
   ]
  },
  {
   "cell_type": "code",
   "execution_count": 153,
   "metadata": {},
   "outputs": [
    {
     "name": "stdout",
     "output_type": "stream",
     "text": [
      "3\n"
     ]
    }
   ],
   "source": []
  },
  {
   "cell_type": "code",
   "execution_count": 157,
   "metadata": {
    "ExecuteTime": {
     "end_time": "2021-01-30T19:19:45.069298Z",
     "start_time": "2021-01-30T19:19:43.357430Z"
    },
    "slideshow": {
     "slide_type": "fragment"
    }
   },
   "outputs": [
    {
     "name": "stdout",
     "output_type": "stream",
     "text": [
      "4\n",
      "Você inseriu o valor  4\n",
      "É um número positivo\n",
      "Positivo!!!\n"
     ]
    }
   ],
   "source": []
  },
  {
   "cell_type": "markdown",
   "metadata": {
    "slideshow": {
     "slide_type": "slide"
    }
   },
   "source": [
    "## Exercícios de fixação"
   ]
  },
  {
   "cell_type": "markdown",
   "metadata": {
    "slideshow": {
     "slide_type": "slide"
    }
   },
   "source": [
    "**1. Crie as seguintes variáveis:**\n",
    "\n",
    "Peso = 85.94\n",
    "\n",
    "Altura = 1.73\n",
    "\n",
    "Na sequência, calcule o IMC ($ IMC = Peso / Altura^2 $) e exiba uma String com a seguinte formatação: \"Para um peso de 85.9 Kg, e uma altura de 1.7 m, o IMC calculado é  de 28.71\n",
    "\n",
    "> Dica: você pode fazer uso da função format do Python! Pesquise sobre ela!"
   ]
  },
  {
   "cell_type": "code",
   "execution_count": 70,
   "metadata": {},
   "outputs": [
    {
     "name": "stdout",
     "output_type": "stream",
     "text": [
      "Para um peso de 85.94 Kg, e uma altura de 1.7 m, o IMC calculado é  de 28.71\n"
     ]
    }
   ],
   "source": [
    "peso = 85.94\n",
    "altura = 1.73\n",
    "\n",
    "IMC = round(peso/(altura**2),2)\n",
    "\n",
    "\n",
    "\n",
    "print(f\"Para um peso de {peso} Kg, e uma altura de {round(altura,1)} m, o IMC calculado é  de {IMC}\")"
   ]
  },
  {
   "cell_type": "markdown",
   "metadata": {
    "ExecuteTime": {
     "end_time": "2020-12-20T23:23:27.486856Z",
     "start_time": "2020-12-20T23:23:27.452039Z"
    },
    "slideshow": {
     "slide_type": "slide"
    }
   },
   "source": [
    "**2. A distância entre dois pontos na superfície da Terra (em Km) pode ser aproximada fazendo-se uso do cálculo abaixo, onde 6371,01 é o raio médio da terra em Km.**\n",
    "\n",
    "$dist = 6371,01 \\times arccos(sen(t_1) \\times sen(t_2) + cos(t_1) \\times cos(t_2) \\times cos(g_1 - g_2))$\n",
    "\n",
    "onde $t_1, g_1$ e $t_2, g_2$ são pares de latitude e longitude de dois pontos de interesse. \n",
    "\n",
    "**Faça um programa que receba dois pontos $(t_1, g_1), (t_2, g_2)$ e devolva a distância aproximada entre estes dois pontos em Km.**\n",
    "\n",
    "> Dicas:\n",
    "> em Python as funções trigonométricas estão disponíveis na biblioteca Math. O arco cosseno é obtido por meio da função acos. Seno pela função sin e Cosseno pela função cos.\n",
    "\n",
    "> Atente-se ao fato de que estas funções trigonométricas trabalham em Radianos e você estará informado os valores em grau. Para converter-los para radianos faça uso da função Radians da biblioteca Math.  \n",
    "\n",
    "\n",
    "\n",
    "> Para obter pontos de interesse, acesse o site https://www.latlong.net/\n",
    "\n",
    "> Para verificar se o seu programa está correto, você pode calcular a distância entre dois pontos no endereço eletrônico: https://www.geodatasource.com/distance-calculator\n",
    "\n",
    "> Exemplos de pontos para testes:\n",
    ">> Brasília (-15.699244, -47.829556)<br>\n",
    ">> Tókio (35.652832, 139.879478)<br>\n",
    ">> Distância aproximada em Km entre Brasília e Tókio: 17669.24 Km. "
   ]
  },
  {
   "cell_type": "code",
   "execution_count": 100,
   "metadata": {},
   "outputs": [
    {
     "data": {
      "text/plain": [
       "17667.94"
      ]
     },
     "execution_count": 100,
     "metadata": {},
     "output_type": "execute_result"
    }
   ],
   "source": [
    "# $dist = 6371,01 \\times arccos(sen(t_1) \\times sen(t_2) + cos(t_1) \\times cos(t_2) \\times cos(g_1 - g_2))$\n",
    "\n",
    "from math import acos, cos, sin, radians\n",
    "raio = 6371.01\n",
    "\n",
    "brasilia =  (-15.699244, -47.829556)\n",
    "tokio = (35.652832, 139.879478)\n",
    "\n",
    "# (t1,g1)\n",
    "t1 = radians(brasilia[0])\n",
    "g1 = radians(brasilia[1])\n",
    "\n",
    "# (t2,g2)\n",
    "t2 = radians(tokio[0])\n",
    "g2 = radians(tokio[1])\n",
    "\n",
    "\n",
    "dist = raio * acos( sin(t2) * sin(t1) + cos(t1) * cos(t2)*cos(g1-g2))\n",
    "\n",
    "round(dist,2)"
   ]
  },
  {
   "cell_type": "code",
   "execution_count": 104,
   "metadata": {},
   "outputs": [
    {
     "name": "stdout",
     "output_type": "stream",
     "text": [
      "The first 2 decimals of pi are 3.14.\n"
     ]
    }
   ],
   "source": [
    "pi = 3.141592653589793238462643383279\n",
    "print(f'The first 2 decimals of pi are {pi:.2f}.')"
   ]
  },
  {
   "cell_type": "code",
   "execution_count": null,
   "metadata": {},
   "outputs": [],
   "source": []
  },
  {
   "cell_type": "markdown",
   "metadata": {},
   "source": [
    "Referência e bibliografia:\n",
    "\n",
    "- https://penseallen.github.io/PensePython2e/\n",
    "- https://jakevdp.github.io/PythonDataScienceHandbook/\n",
    "- https://docs.python-guide.org/\n",
    "- https://books.goalkicker.com/PythonBook/\n",
    "- https://docs.python.org/3/\n",
    "- https://www.anaconda.com/\n"
   ]
  }
 ],
 "metadata": {
  "colab": {
   "collapsed_sections": [],
   "name": "[Insper-Programação] Aula 01.ipynb",
   "provenance": []
  },
  "kernelspec": {
   "display_name": "Python 3",
   "language": "python",
   "name": "python3"
  },
  "language_info": {
   "codemirror_mode": {
    "name": "ipython",
    "version": 3
   },
   "file_extension": ".py",
   "mimetype": "text/x-python",
   "name": "python",
   "nbconvert_exporter": "python",
   "pygments_lexer": "ipython3",
   "version": "3.8.3"
  },
  "rise": {
   "enable_chalkboard": true
  },
  "toc": {
   "base_numbering": 1,
   "nav_menu": {},
   "number_sections": true,
   "sideBar": true,
   "skip_h1_title": false,
   "title_cell": "Table of Contents",
   "title_sidebar": "Contents",
   "toc_cell": false,
   "toc_position": {},
   "toc_section_display": true,
   "toc_window_display": false
  }
 },
 "nbformat": 4,
 "nbformat_minor": 1
}
