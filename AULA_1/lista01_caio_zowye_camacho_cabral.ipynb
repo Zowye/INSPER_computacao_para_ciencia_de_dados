{
 "cells": [
  {
   "cell_type": "markdown",
   "metadata": {},
   "source": [
    "INSPER - Computação para a Ciência dos Dados\n",
    "\n",
    "# Computação para a Ciência dos Dados - Lista 01\n",
    "\n",
    "Faça a lista abaixo para praticar programação em Python. Utilize os conceitos vistos na Aula 01, dicas abaixo e consulte documentações de Python na internet. Em caso de dúvidas, contate o Prof. Afonso. \n",
    "\n",
    "**Entrega**: 05/02/2022, 18h, via Blackboard - IMPORTANTE: renomeie o notebook incluindo seu nome! "
   ]
  },
  {
   "cell_type": "markdown",
   "metadata": {},
   "source": [
    "## 01 - Variáveis\n",
    "Crie duas variáveis, uma para salvar sua idade e outra para salvar seu nome completo. Depois, utilize o `print()` para imprimir a mensagem \"Olá, meu nome é _seu nome_ , tenho _sua idade_ anos.\". Importante: o texto precisa ser preenchido utilizando as variáveis criadas."
   ]
  },
  {
   "cell_type": "code",
   "execution_count": 2,
   "metadata": {},
   "outputs": [
    {
     "name": "stdout",
     "output_type": "stream",
     "text": [
      "Olá, meu nome é Caio Zowye Camacho Cabral, tenho 33 anos.\n"
     ]
    }
   ],
   "source": [
    "nome = \"Caio Zowye Camacho Cabral\"\n",
    "idade = 33\n",
    "\n",
    "print(f'Olá, meu nome é {nome}, tenho {idade} anos.')"
   ]
  },
  {
   "cell_type": "markdown",
   "metadata": {},
   "source": [
    "## 02 - Calculando médias\n",
    "\n",
    "Escreva um programa que calcula e retorna a média de uma lista de idades. Você **não** pode usar as funções prontas de Python como `sum()`. "
   ]
  },
  {
   "cell_type": "code",
   "execution_count": 6,
   "metadata": {},
   "outputs": [],
   "source": [
    "idades = [20, 21, 20, 22, 19, 18, 14, 35] # Deve retornar 21.125"
   ]
  },
  {
   "cell_type": "code",
   "execution_count": 7,
   "metadata": {},
   "outputs": [
    {
     "name": "stdout",
     "output_type": "stream",
     "text": [
      "21.125\n"
     ]
    }
   ],
   "source": [
    "soma = 0\n",
    "for num in idades:\n",
    "    soma = soma + num\n",
    "\n",
    "media = soma / len(idades)\n",
    "\n",
    "print(media)"
   ]
  },
  {
   "cell_type": "markdown",
   "metadata": {},
   "source": [
    "## 03 - Soma de inteiros \n",
    "Faça um programa que leia 4 números inteiros, armazene-os em uma lista, imprima a lista e a soma dos valores. Não utilize funções prontas do Python para realizar a soma.\n",
    "\n",
    "**Dica**: estude o funcionamento da função `input()` e das conversões de tipos de dados de strings para números."
   ]
  },
  {
   "cell_type": "code",
   "execution_count": 13,
   "metadata": {},
   "outputs": [
    {
     "name": "stdout",
     "output_type": "stream",
     "text": [
      "A lista é [3, 4, 2, 1]\n",
      "A soma é 10\n"
     ]
    }
   ],
   "source": [
    "a = input(\"Insira o primeiro numero: \")\n",
    "b = input(\"Insira o segundo numero: \")\n",
    "c = input(\"Insira o terceiro numero: \")\n",
    "d = input(\"Insira o quarto numero: \")\n",
    "lista = []\n",
    "\n",
    "lista.append(int(a))\n",
    "lista.append(int(b))\n",
    "lista.append(int(c))\n",
    "lista.append(int(d))\n",
    "\n",
    "soma = 0\n",
    "for num in lista:\n",
    "    soma = soma + num\n",
    " \n",
    "\n",
    "print(f'A lista é {lista}')\n",
    "print(f'A soma é {soma}')\n"
   ]
  },
  {
   "cell_type": "markdown",
   "metadata": {},
   "source": [
    "## 04 - List Comprehension\n",
    "Crie uma _List Comprehension_ para gerar uma lista com os quadrados PARES dos números inteiros de 0 até n, sendo que n é o valor de uma variável. \n",
    "\n",
    "Ex: `n = 10`, deve gerar a lista `[0, 4, 16, 36, 64, 100]`"
   ]
  },
  {
   "cell_type": "code",
   "execution_count": 26,
   "metadata": {},
   "outputs": [
    {
     "data": {
      "text/plain": [
       "[0, 4, 16, 36, 64, 100]"
      ]
     },
     "execution_count": 26,
     "metadata": {},
     "output_type": "execute_result"
    }
   ],
   "source": [
    "n = 10\n",
    "\n",
    "[i**2 for i in range(n+1) if (i % 2==0)]"
   ]
  },
  {
   "cell_type": "markdown",
   "metadata": {},
   "source": [
    "## 05 - Pirâmide \n",
    "\n",
    "Dado um inteiro _n_ informado pelo usuário, faça um programa para imprimir a seguinte estrutura até a _n_-ésima linha.\n",
    "\n",
    "    1\n",
    "    2   2\n",
    "    3   3   3\n",
    "    .....\n",
    "    n   n   n   n   n   n  ... n"
   ]
  },
  {
   "cell_type": "code",
   "execution_count": 47,
   "metadata": {},
   "outputs": [
    {
     "name": "stdout",
     "output_type": "stream",
     "text": [
      "1 \n",
      "\n",
      "2 2 \n",
      "\n",
      "3 3 3 \n",
      "\n",
      "4 4 4 4 \n",
      "\n"
     ]
    }
   ],
   "source": [
    "n = int(input(\"Entre com o valor de n:\"))\n",
    "\n",
    "for i in range(1,n+1):\n",
    "    for x in range(i):\n",
    "        print(i, end = ' ')\n",
    "    print('\\n')"
   ]
  },
  {
   "cell_type": "markdown",
   "metadata": {},
   "source": [
    "## 06 - Loja de tintas\n",
    "\n",
    "Faça um programa para uma loja de tintas. O programa deverá pedir o tamanho em metros quadrados da área a ser pintada. Considere que a cobertura da tinta é de 1 litro para cada 3 metros quadrados e que a tinta é vendida em latas de 18 litros, que custam R$ 80,00. Informe ao usuário a quantidades de latas de tinta a serem compradas e o preço total."
   ]
  },
  {
   "cell_type": "code",
   "execution_count": 59,
   "metadata": {},
   "outputs": [
    {
     "name": "stdout",
     "output_type": "stream",
     "text": [
      "Você deverá comprar 5.56 latas de tinta.\n",
      "O seu total é R$444.44\n"
     ]
    }
   ],
   "source": [
    "area = int(input(\"Insira a área a ser pintada em m^2:\"))\n",
    "litros = area / 3\n",
    "latas = litros / 18\n",
    "valor = latas * 80\n",
    "\n",
    "print(f'Você deverá comprar {round(latas,2)} latas de tinta.')\n",
    "print(f'O seu total é R${round(valor,2)}')"
   ]
  },
  {
   "cell_type": "markdown",
   "metadata": {},
   "source": [
    "## 07 - Palíndromos\n",
    "\n",
    "Um palíndromo é uma sequência de caracteres cuja leitura é idêntica se feita da direita para esquerda ou vice−versa. Por exemplo: `OSSO` e `OVO` são palíndromos. Em textos mais complexos os espaços e pontuação são ignorados. A frase `SUBI NO ONIBUS` é o exemplo de uma frase palíndroma onde os espaços foram ignorados. Faça um programa que leia uma string, mostre−a e diga se é um palíndromo ou não."
   ]
  },
  {
   "cell_type": "code",
   "execution_count": 96,
   "metadata": {},
   "outputs": [
    {
     "name": "stdout",
     "output_type": "stream",
     "text": [
      "É palindromo\n"
     ]
    }
   ],
   "source": [
    "palavra = input(\"Entre com a palavra:\")\n",
    "\n",
    "# elimina os espacos\n",
    "palavra = palavra.replace(\" \", \"\")\n",
    "\n",
    "index = len(palavra) - 1\n",
    "palindromo = True\n",
    "\n",
    "for i, letra in enumerate(palavra):\n",
    "    \n",
    "    if palavra[i] != palavra[index]:\n",
    "        palindromo = False\n",
    "\n",
    "    index = index - 1\n",
    "\n",
    "\n",
    "\n",
    "if palindromo:\n",
    "    print('É palindromo')\n",
    "else:\n",
    "    print('Não é palindromo')"
   ]
  },
  {
   "cell_type": "markdown",
   "metadata": {},
   "source": [
    "## 08 - Lista de compras\n",
    "Utilizando o arquivo `supermercado.csv` anexado, complete o programa abaixo para responder aos seguintes desafios: \n",
    "\n",
    "1. Qual o valor total da compra? \n",
    "2. Quantos produtos foram comprados? Se representar uma fração, considere um único produto\n",
    "3. Qual o produto mais caro (em termos de valor unitário)?\n",
    "\n",
    "_Importante_ : você não pode usar bibliotecas auxiliares como Pandas ou similares. Aproveite para exercitar os comandos básicos do Python!\n",
    "\n",
    "_Estrutura do arquivo_ : para cada linha temos PRODUTO;QUANTIDADE;PRECO UNIT. (R$). Exemplo: Achocolatado;2;5.89\n",
    "\n",
    "_Dica_ : antes de seguir o código abaixo, verifique o conteúdo da variável `lines` e faça as adaptações necessárias "
   ]
  },
  {
   "cell_type": "code",
   "execution_count": 156,
   "metadata": {},
   "outputs": [],
   "source": [
    "# Leitura do conteúdo do arquivo\n",
    "f = open(\"supermercado.csv\", 'r')\n",
    "lines = f.readlines()\n",
    "f.close()\n",
    "\n",
    "# Gera uma matriz de informações, cada produto numa linha, cada info numa coluna\n",
    "# Aqui você terá que converter os tipos de dados de acordo o formato da informação da lista (int, double ou string)\n",
    "LISTA_COMPLETA = []\n",
    "\n",
    "for i in lines[1:]:\n",
    "\n",
    "    # Extrai cada item da linha\n",
    "    i = i.replace(\"\\n\", \"\")\n",
    "    splitted = i.split(';')\n",
    "    desc_item = str(splitted[0])\n",
    "    qtd_item = splitted[1]\n",
    "    vlr_item = float(splitted[2])\n",
    "\n",
    "    # QTD_ITEM pode ser do tipo inteiro ou float\n",
    "    if '.' in qtd_item:\n",
    "        qtd_item = float(qtd_item)\n",
    "    else:\n",
    "        qtd_item = int(qtd_item)\n",
    "\n",
    "    linha = [desc_item, qtd_item, vlr_item]\n",
    "\n",
    "    # Insere a linha na lista completa\n",
    "    LISTA_COMPLETA.append(linha)"
   ]
  },
  {
   "cell_type": "code",
   "execution_count": 193,
   "metadata": {},
   "outputs": [
    {
     "name": "stdout",
     "output_type": "stream",
     "text": [
      "O valor total da compra é de R$ 743.07\n"
     ]
    }
   ],
   "source": [
    "# 1. Qual o valor total da compra?\n",
    "VALOR_TOTAL = 0\n",
    "for linha in LISTA_COMPLETA:\n",
    "    valor_linha = linha[1] * linha[2]\n",
    "    VALOR_TOTAL = VALOR_TOTAL + valor_linha\n",
    "\n",
    "print(f\"O valor total da compra é de R$ {round(VALOR_TOTAL,2)}\")\n"
   ]
  },
  {
   "cell_type": "code",
   "execution_count": 196,
   "metadata": {},
   "outputs": [
    {
     "name": "stdout",
     "output_type": "stream",
     "text": [
      "A quantidade de produtos comprada é de 122 itens.\n"
     ]
    }
   ],
   "source": [
    "# 2. Quantos produtos foram comprados? Se representar uma fração, considere um único produto\n",
    "QTD_TOTAL_PRODUTOS = 0\n",
    "\n",
    "for linha in LISTA_COMPLETA:\n",
    "    QTD_ITEM_LINHA = linha[1]\n",
    "\n",
    "    # SE A QTD FOR DO TIPO FLOAT (FRACAO) CONSIDERA COMO SENDO APENAS 1\n",
    "    if type(QTD_ITEM_LINHA) == int:\n",
    "        QTD_TOTAL_PRODUTOS = QTD_TOTAL_PRODUTOS + QTD_ITEM_LINHA\n",
    "    else:\n",
    "        QTD_TOTAL_PRODUTOS = QTD_TOTAL_PRODUTOS + 1\n",
    "\n",
    "print(f\"A quantidade de produtos comprada é de {QTD_TOTAL_PRODUTOS} itens.\")\n"
   ]
  },
  {
   "cell_type": "code",
   "execution_count": 198,
   "metadata": {},
   "outputs": [
    {
     "name": "stdout",
     "output_type": "stream",
     "text": [
      "O item mais caro é o Presunto com o valor de R$ 50.0\n"
     ]
    }
   ],
   "source": [
    "# 3. Qual o produto mais caro (em termos de valor unitário)?\n",
    "VALOR_MAIS_CARO = 0\n",
    "NOME_ITEM_MAIS_CARO = ''\n",
    "\n",
    "for linha in LISTA_COMPLETA:\n",
    "    NOME = linha[0]\n",
    "    VALOR_UNIT = linha[2]\n",
    "\n",
    "    if VALOR_UNIT > VALOR_MAIS_CARO:\n",
    "        VALOR_MAIS_CARO = VALOR_UNIT\n",
    "        NOME_ITEM_MAIS_CARO = NOME\n",
    "\n",
    "print(f\"O item mais caro é o {NOME_ITEM_MAIS_CARO} com o valor de R$ {round(VALOR_MAIS_CARO, 2)}\")\n"
   ]
  },
  {
   "cell_type": "code",
   "execution_count": null,
   "metadata": {},
   "outputs": [],
   "source": []
  },
  {
   "cell_type": "code",
   "execution_count": null,
   "metadata": {},
   "outputs": [],
   "source": []
  },
  {
   "cell_type": "code",
   "execution_count": null,
   "metadata": {},
   "outputs": [],
   "source": []
  },
  {
   "cell_type": "code",
   "execution_count": null,
   "metadata": {},
   "outputs": [],
   "source": []
  },
  {
   "cell_type": "code",
   "execution_count": null,
   "metadata": {},
   "outputs": [],
   "source": []
  },
  {
   "cell_type": "code",
   "execution_count": null,
   "metadata": {},
   "outputs": [],
   "source": []
  },
  {
   "cell_type": "code",
   "execution_count": null,
   "metadata": {},
   "outputs": [],
   "source": []
  },
  {
   "cell_type": "code",
   "execution_count": null,
   "metadata": {},
   "outputs": [],
   "source": []
  },
  {
   "cell_type": "code",
   "execution_count": null,
   "metadata": {},
   "outputs": [],
   "source": []
  },
  {
   "cell_type": "code",
   "execution_count": null,
   "metadata": {},
   "outputs": [],
   "source": []
  },
  {
   "cell_type": "code",
   "execution_count": null,
   "metadata": {},
   "outputs": [],
   "source": []
  },
  {
   "cell_type": "code",
   "execution_count": null,
   "metadata": {},
   "outputs": [],
   "source": []
  },
  {
   "cell_type": "code",
   "execution_count": null,
   "metadata": {},
   "outputs": [],
   "source": []
  },
  {
   "cell_type": "code",
   "execution_count": null,
   "metadata": {},
   "outputs": [],
   "source": []
  },
  {
   "cell_type": "code",
   "execution_count": null,
   "metadata": {},
   "outputs": [],
   "source": []
  },
  {
   "cell_type": "code",
   "execution_count": null,
   "metadata": {},
   "outputs": [],
   "source": []
  },
  {
   "cell_type": "code",
   "execution_count": null,
   "metadata": {},
   "outputs": [],
   "source": []
  }
 ],
 "metadata": {
  "kernelspec": {
   "display_name": "Python 3",
   "language": "python",
   "name": "python3"
  },
  "language_info": {
   "codemirror_mode": {
    "name": "ipython",
    "version": 3
   },
   "file_extension": ".py",
   "mimetype": "text/x-python",
   "name": "python",
   "nbconvert_exporter": "python",
   "pygments_lexer": "ipython3",
   "version": "3.9.10"
  }
 },
 "nbformat": 4,
 "nbformat_minor": 4
}
